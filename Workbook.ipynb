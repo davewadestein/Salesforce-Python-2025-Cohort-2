{
 "cells": [
  {
   "cell_type": "markdown",
   "metadata": {},
   "source": [
    "# Important Ideas about Programming\n",
    "* pick good variable names, e.g., __`cost_per_ounce`__ vs. __`cpo`__\n",
    "* to get better at programming, here are my two suggestions\n",
    "  * once your program works, try to solve it a different way\n",
    "  * once your program works, add features to it even tho you weren't asked to\n",
    "    * e.g., guessing game add \"...but you're close\" (within 10)\n",
    "* DWS: \"Efficiency doesn't matter until it matters, and it rarely matters\"\n",
    "* you read code 10x more often that you write code (fill in your own 10x)"
   ]
  },
  {
   "cell_type": "code",
   "execution_count": 3,
   "metadata": {},
   "outputs": [],
   "source": [
    "count = 0"
   ]
  },
  {
   "cell_type": "markdown",
   "metadata": {},
   "source": [
    "# Important Things About Python\n",
    "* basic datatypes: __`int, float, bool, str`__\n",
    "* scalars vs. containers\n",
    "  * scalar = object that holds a single value (e.g., __`int, float, bool`__)\n",
    "  * container = object that holds 0+ objects\n",
    "     * e.g., __`str`__, __`list`__, __`tuple`__, __`dict`__\n",
    "* mutable vs. immutable objects\n",
    "  * immutable: str, tuple\n",
    "  * mutable: list, dict\n",
    "* __`in`__ allows us to ask \"is an item IN a container\"\n",
    "* Python is dynamically typed\n",
    "   1. when you declare a variable, no need to tell Python what type is\n",
    "   2. you are free to put a value of a different type into that variable\n",
    "* the built-in functions DO NOT change the objects that are passed into to them\n",
    "  * if you want to change an object in Python, you must call/invoke/apply a method on/to it\n",
    "  * not all methods change the objects they are called/invoked/applied on/to\n",
    "* the built-in functions are general, they tend to work on lots of datatypes\n",
    "  * most general __`print()`__, __`str()`__\n",
    "  * __`min()`__, __`max()`__ work on int, float, str\n",
    "* Python uses \"truthiness\" in Boolean contexts\n",
    "  * 0 and 0.0 are considered False; non-zero number are considered True\n",
    "  * empty containers are considered False; non-empty containers are considered True\n"
   ]
  },
  {
   "cell_type": "code",
   "execution_count": 42,
   "metadata": {},
   "outputs": [],
   "source": [
    "# 100s of lines later...\n",
    "count = 'Dave' # make count a string/text variable"
   ]
  },
  {
   "cell_type": "code",
   "execution_count": 5,
   "metadata": {},
   "outputs": [],
   "source": [
    "# Boolean variables are either True or False\n",
    "# and are typically named so that the True or False\n",
    "succeeded = True # 1\n",
    "error_occured = False # 0"
   ]
  },
  {
   "cell_type": "markdown",
   "metadata": {},
   "source": [
    "# \"Pythonic\"\n",
    "* Rick: \"I'm a Java programmer and I've been teaching myself Python, but my Python looks like Java\"\n",
    "* we want to use Python idioms and write our code so that readers see what they expect\n",
    "* e.g., if an object is difficult to work with, consider changing its type\n",
    "  * don't use indexing on a container, unless you need it\n",
    "  * __`container[-1]`__ means the LAST item of the container\n",
    "  * __`container[-n]`__ means nth from the end of the container\n",
    "  * __`container[:n]`__ means the first n items in the container\n",
    "  * __`container[n:]`__ means the rest (after the first n characters)\n",
    "  * __`container[-n:]`__ means the last n items in the container\n",
    "  * __`container[::-1]`__ means a reversed version of the container (swap start and stop)\n",
    "  * __`for _ in range(n)`__ means repeat the loop n times\n",
    "* __`'one two three'.split()`__ is an easy way to create a list"
   ]
  },
  {
   "cell_type": "markdown",
   "metadata": {},
   "source": [
    "## DWS's Two Ways to Get Better at Programming\n",
    "1. when your code works, after celebrating, consider doing it a different way\n",
    "1. when your code works, add more features to it, even if they weren't asked for"
   ]
  },
  {
   "cell_type": "code",
   "execution_count": 12,
   "metadata": {},
   "outputs": [
    {
     "data": {
      "text/plain": [
       "float"
      ]
     },
     "execution_count": 12,
     "metadata": {},
     "output_type": "execute_result"
    }
   ],
   "source": [
    "type(number)"
   ]
  },
  {
   "cell_type": "code",
   "execution_count": 14,
   "metadata": {},
   "outputs": [
    {
     "data": {
      "text/plain": [
       "28.1"
      ]
     },
     "execution_count": 14,
     "metadata": {},
     "output_type": "execute_result"
    }
   ],
   "source": [
    "number + 3.1"
   ]
  },
  {
   "cell_type": "code",
   "execution_count": 17,
   "metadata": {},
   "outputs": [
    {
     "ename": "SyntaxError",
     "evalue": "invalid syntax. Perhaps you forgot a comma? (4090549515.py, line 1)",
     "output_type": "error",
     "traceback": [
      "\u001b[0;36m  Cell \u001b[0;32mIn[17], line 1\u001b[0;36m\u001b[0m\n\u001b[0;31m    print(number 3 * 17.8, 'text')\u001b[0m\n\u001b[0m          ^\u001b[0m\n\u001b[0;31mSyntaxError\u001b[0m\u001b[0;31m:\u001b[0m invalid syntax. Perhaps you forgot a comma?\n"
     ]
    }
   ],
   "source": [
    "print(number, 3 * 17.8, 'text')"
   ]
  },
  {
   "cell_type": "code",
   "execution_count": 18,
   "metadata": {},
   "outputs": [
    {
     "name": "stdout",
     "output_type": "stream",
     "text": [
      "25.0\n"
     ]
    }
   ],
   "source": [
    "print(number)"
   ]
  },
  {
   "cell_type": "code",
   "execution_count": 19,
   "metadata": {},
   "outputs": [
    {
     "data": {
      "text/plain": [
       "25.0"
      ]
     },
     "execution_count": 19,
     "metadata": {},
     "output_type": "execute_result"
    }
   ],
   "source": [
    "number"
   ]
  },
  {
   "cell_type": "code",
   "execution_count": 20,
   "metadata": {},
   "outputs": [
    {
     "data": {
      "text/plain": [
       "'25.0'"
      ]
     },
     "execution_count": 20,
     "metadata": {},
     "output_type": "execute_result"
    }
   ],
   "source": [
    "str(number)"
   ]
  },
  {
   "cell_type": "code",
   "execution_count": 21,
   "metadata": {},
   "outputs": [
    {
     "data": {
      "text/plain": [
       "25.0"
      ]
     },
     "execution_count": 21,
     "metadata": {},
     "output_type": "execute_result"
    }
   ],
   "source": [
    "number"
   ]
  },
  {
   "cell_type": "code",
   "execution_count": null,
   "metadata": {},
   "outputs": [],
   "source": [
    "year = 2025\n",
    "greeting = 'Welcome to ' + str(year)"
   ]
  },
  {
   "cell_type": "code",
   "execution_count": 28,
   "metadata": {},
   "outputs": [
    {
     "data": {
      "text/plain": [
       "'Welcome to 2025'"
      ]
     },
     "execution_count": 28,
     "metadata": {},
     "output_type": "execute_result"
    }
   ],
   "source": [
    "greeting"
   ]
  },
  {
   "cell_type": "code",
   "execution_count": 29,
   "metadata": {},
   "outputs": [
    {
     "name": "stdout",
     "output_type": "stream",
     "text": [
      "Welcome to 2025\n"
     ]
    }
   ],
   "source": [
    "print('Welcome to', year)"
   ]
  },
  {
   "cell_type": "code",
   "execution_count": 31,
   "metadata": {},
   "outputs": [
    {
     "data": {
      "text/plain": [
       "3"
      ]
     },
     "execution_count": 31,
     "metadata": {},
     "output_type": "execute_result"
    }
   ],
   "source": [
    "int(3.76)"
   ]
  },
  {
   "cell_type": "code",
   "execution_count": 32,
   "metadata": {},
   "outputs": [
    {
     "data": {
      "text/plain": [
       "3"
      ]
     },
     "execution_count": 32,
     "metadata": {},
     "output_type": "execute_result"
    }
   ],
   "source": [
    "int(3) # the int version of any int is itself"
   ]
  },
  {
   "cell_type": "code",
   "execution_count": 33,
   "metadata": {},
   "outputs": [],
   "source": [
    "import math # bring the math module (\"library\") from the hard drive and put it memory"
   ]
  },
  {
   "cell_type": "code",
   "execution_count": 34,
   "metadata": {},
   "outputs": [
    {
     "data": {
      "text/plain": [
       "5.0"
      ]
     },
     "execution_count": 34,
     "metadata": {},
     "output_type": "execute_result"
    }
   ],
   "source": [
    "math.sqrt(25)"
   ]
  },
  {
   "cell_type": "code",
   "execution_count": 35,
   "metadata": {},
   "outputs": [
    {
     "data": {
      "text/plain": [
       "1.0"
      ]
     },
     "execution_count": 35,
     "metadata": {},
     "output_type": "execute_result"
    }
   ],
   "source": [
    "math.sqrt(1.0)"
   ]
  },
  {
   "cell_type": "code",
   "execution_count": 36,
   "metadata": {},
   "outputs": [],
   "source": [
    "number = 13.72"
   ]
  },
  {
   "cell_type": "code",
   "execution_count": 37,
   "metadata": {},
   "outputs": [
    {
     "data": {
      "text/plain": [
       "13"
      ]
     },
     "execution_count": 37,
     "metadata": {},
     "output_type": "execute_result"
    }
   ],
   "source": [
    "int(number)"
   ]
  },
  {
   "cell_type": "code",
   "execution_count": 38,
   "metadata": {},
   "outputs": [
    {
     "data": {
      "text/plain": [
       "14"
      ]
     },
     "execution_count": 38,
     "metadata": {},
     "output_type": "execute_result"
    }
   ],
   "source": [
    "round(number)"
   ]
  },
  {
   "cell_type": "code",
   "execution_count": 9,
   "metadata": {},
   "outputs": [],
   "source": [
    "float = 2.3 # Python did not \"NO, I won't do this because float() is a function\""
   ]
  },
  {
   "cell_type": "code",
   "execution_count": 10,
   "metadata": {},
   "outputs": [
    {
     "data": {
      "text/plain": [
       "2.3"
      ]
     },
     "execution_count": 10,
     "metadata": {},
     "output_type": "execute_result"
    }
   ],
   "source": [
    "float"
   ]
  },
  {
   "cell_type": "code",
   "execution_count": 11,
   "metadata": {},
   "outputs": [
    {
     "ename": "TypeError",
     "evalue": "'float' object is not callable",
     "output_type": "error",
     "traceback": [
      "\u001b[0;31m---------------------------------------------------------------------------\u001b[0m",
      "\u001b[0;31mTypeError\u001b[0m                                 Traceback (most recent call last)",
      "Cell \u001b[0;32mIn[11], line 1\u001b[0m\n\u001b[0;32m----> 1\u001b[0m \u001b[38;5;28;43mfloat\u001b[39;49m\u001b[43m(\u001b[49m\u001b[38;5;241;43m1\u001b[39;49m\u001b[43m)\u001b[49m\n",
      "\u001b[0;31mTypeError\u001b[0m: 'float' object is not callable"
     ]
    }
   ],
   "source": [
    "float(1)"
   ]
  },
  {
   "cell_type": "code",
   "execution_count": 12,
   "metadata": {},
   "outputs": [],
   "source": [
    "del float # remove the variable called \"float\" that I mistakenly made"
   ]
  },
  {
   "cell_type": "code",
   "execution_count": 13,
   "metadata": {},
   "outputs": [
    {
     "data": {
      "text/plain": [
       "1.0"
      ]
     },
     "execution_count": 13,
     "metadata": {},
     "output_type": "execute_result"
    }
   ],
   "source": [
    "float(1)"
   ]
  },
  {
   "cell_type": "code",
   "execution_count": 15,
   "metadata": {},
   "outputs": [
    {
     "data": {
      "text/plain": [
       "10"
      ]
     },
     "execution_count": 15,
     "metadata": {},
     "output_type": "execute_result"
    }
   ],
   "source": [
    "number = 2\n",
    "number = number + 4\n",
    "number += 4 # add 4 to number, same as above\n",
    "number"
   ]
  },
  {
   "cell_type": "code",
   "execution_count": 18,
   "metadata": {},
   "outputs": [
    {
     "name": "stdout",
     "output_type": "stream",
     "text": [
      "\n",
      "1\n"
     ]
    }
   ],
   "source": [
    "print()\n",
    "print(1)"
   ]
  },
  {
   "cell_type": "code",
   "execution_count": 21,
   "metadata": {},
   "outputs": [
    {
     "name": "stdout",
     "output_type": "stream",
     "text": [
      "1...2...3/4\n"
     ]
    }
   ],
   "source": [
    "print(1, 2, 3, sep='...', end='/')\n",
    "print(4)"
   ]
  },
  {
   "cell_type": "code",
   "execution_count": 22,
   "metadata": {},
   "outputs": [
    {
     "data": {
      "text/plain": [
       "1"
      ]
     },
     "execution_count": 22,
     "metadata": {},
     "output_type": "execute_result"
    }
   ],
   "source": [
    "25 % 4"
   ]
  },
  {
   "cell_type": "code",
   "execution_count": 23,
   "metadata": {},
   "outputs": [
    {
     "data": {
      "text/plain": [
       "0"
      ]
     },
     "execution_count": 23,
     "metadata": {},
     "output_type": "execute_result"
    }
   ],
   "source": [
    "25 % 5"
   ]
  },
  {
   "cell_type": "code",
   "execution_count": 25,
   "metadata": {},
   "outputs": [],
   "source": [
    "a, b, o, p = 'b', 'a', 'p', 'o'"
   ]
  },
  {
   "cell_type": "code",
   "execution_count": 26,
   "metadata": {},
   "outputs": [
    {
     "data": {
      "text/plain": [
       "'pop'"
      ]
     },
     "execution_count": 26,
     "metadata": {},
     "output_type": "execute_result"
    }
   ],
   "source": [
    "o + p + o"
   ]
  },
  {
   "cell_type": "code",
   "execution_count": 27,
   "metadata": {},
   "outputs": [
    {
     "data": {
      "text/plain": [
       "'bbba'"
      ]
     },
     "execution_count": 27,
     "metadata": {},
     "output_type": "execute_result"
    }
   ],
   "source": [
    "a * 3 + b"
   ]
  },
  {
   "cell_type": "code",
   "execution_count": 28,
   "metadata": {},
   "outputs": [
    {
     "data": {
      "text/plain": [
       "'bookkeeper'"
      ]
     },
     "execution_count": 28,
     "metadata": {},
     "output_type": "execute_result"
    }
   ],
   "source": [
    "a + p * 2 + 'k' * 2 + 'e' * 2 + o + 'er'"
   ]
  },
  {
   "cell_type": "code",
   "execution_count": 29,
   "metadata": {},
   "outputs": [],
   "source": [
    "number = 1234"
   ]
  },
  {
   "cell_type": "code",
   "execution_count": 30,
   "metadata": {},
   "outputs": [],
   "source": [
    "number = 1234.567"
   ]
  },
  {
   "cell_type": "markdown",
   "metadata": {},
   "source": []
  },
  {
   "cell_type": "code",
   "execution_count": 31,
   "metadata": {},
   "outputs": [
    {
     "data": {
      "text/plain": [
       "4"
      ]
     },
     "execution_count": 31,
     "metadata": {},
     "output_type": "execute_result"
    }
   ],
   "source": [
    "name = 'Marc'\n",
    "len(name)"
   ]
  },
  {
   "cell_type": "code",
   "execution_count": 32,
   "metadata": {},
   "outputs": [
    {
     "ename": "TypeError",
     "evalue": "object of type 'int' has no len()",
     "output_type": "error",
     "traceback": [
      "\u001b[0;31m---------------------------------------------------------------------------\u001b[0m",
      "\u001b[0;31mTypeError\u001b[0m                                 Traceback (most recent call last)",
      "Cell \u001b[0;32mIn[32], line 1\u001b[0m\n\u001b[0;32m----> 1\u001b[0m \u001b[38;5;28;43mlen\u001b[39;49m\u001b[43m(\u001b[49m\u001b[38;5;241;43m1234\u001b[39;49m\u001b[43m)\u001b[49m\n",
      "\u001b[0;31mTypeError\u001b[0m: object of type 'int' has no len()"
     ]
    }
   ],
   "source": [
    "len(1234)"
   ]
  },
  {
   "cell_type": "code",
   "execution_count": 33,
   "metadata": {},
   "outputs": [],
   "source": [
    "name = '' # valid string...how long is it?"
   ]
  },
  {
   "cell_type": "code",
   "execution_count": 34,
   "metadata": {},
   "outputs": [
    {
     "data": {
      "text/plain": [
       "0"
      ]
     },
     "execution_count": 34,
     "metadata": {},
     "output_type": "execute_result"
    }
   ],
   "source": [
    "len(name)"
   ]
  },
  {
   "cell_type": "code",
   "execution_count": 35,
   "metadata": {},
   "outputs": [],
   "source": [
    "name = 'Puxsutawney'"
   ]
  },
  {
   "cell_type": "code",
   "execution_count": 36,
   "metadata": {},
   "outputs": [],
   "source": [
    "# suppose we want to know how many digits are in an integer\n",
    "# can we call len() on an integer? NO\n",
    "# can we call len() on a string?"
   ]
  },
  {
   "cell_type": "code",
   "execution_count": 37,
   "metadata": {},
   "outputs": [],
   "source": [
    "number = 12345"
   ]
  },
  {
   "cell_type": "code",
   "execution_count": 39,
   "metadata": {},
   "outputs": [
    {
     "data": {
      "text/plain": [
       "5"
      ]
     },
     "execution_count": 39,
     "metadata": {},
     "output_type": "execute_result"
    }
   ],
   "source": [
    "len(str(number))"
   ]
  },
  {
   "cell_type": "code",
   "execution_count": 40,
   "metadata": {},
   "outputs": [
    {
     "data": {
      "text/plain": [
       "'12345'"
      ]
     },
     "execution_count": 40,
     "metadata": {},
     "output_type": "execute_result"
    }
   ],
   "source": [
    "str(number)"
   ]
  },
  {
   "cell_type": "code",
   "execution_count": 51,
   "metadata": {},
   "outputs": [],
   "source": [
    "number = number // 10"
   ]
  },
  {
   "cell_type": "code",
   "execution_count": 52,
   "metadata": {},
   "outputs": [
    {
     "data": {
      "text/plain": [
       "0"
      ]
     },
     "execution_count": 52,
     "metadata": {},
     "output_type": "execute_result"
    }
   ],
   "source": [
    "number"
   ]
  },
  {
   "cell_type": "code",
   "execution_count": 53,
   "metadata": {},
   "outputs": [
    {
     "data": {
      "text/plain": [
       "True"
      ]
     },
     "execution_count": 53,
     "metadata": {},
     "output_type": "execute_result"
    }
   ],
   "source": [
    "4 == 2 + 2"
   ]
  },
  {
   "cell_type": "code",
   "execution_count": 54,
   "metadata": {},
   "outputs": [
    {
     "data": {
      "text/plain": [
       "False"
      ]
     },
     "execution_count": 54,
     "metadata": {},
     "output_type": "execute_result"
    }
   ],
   "source": [
    "5 != 2 + 3"
   ]
  },
  {
   "cell_type": "code",
   "execution_count": 55,
   "metadata": {},
   "outputs": [
    {
     "data": {
      "text/plain": [
       "True"
      ]
     },
     "execution_count": 55,
     "metadata": {},
     "output_type": "execute_result"
    }
   ],
   "source": [
    "# in is used to determine if something is IN a container\n",
    "'s' in 'salesƒorce'"
   ]
  },
  {
   "cell_type": "code",
   "execution_count": 1,
   "metadata": {},
   "outputs": [
    {
     "data": {
      "text/plain": [
       "True"
      ]
     },
     "execution_count": 1,
     "metadata": {},
     "output_type": "execute_result"
    }
   ],
   "source": [
    "'ƒorce' in 'salesƒorce'"
   ]
  },
  {
   "cell_type": "code",
   "execution_count": 57,
   "metadata": {},
   "outputs": [
    {
     "data": {
      "text/plain": [
       "0"
      ]
     },
     "execution_count": 57,
     "metadata": {},
     "output_type": "execute_result"
    }
   ],
   "source": [
    "44 % 2"
   ]
  },
  {
   "cell_type": "code",
   "execution_count": 58,
   "metadata": {},
   "outputs": [
    {
     "data": {
      "text/plain": [
       "1"
      ]
     },
     "execution_count": 58,
     "metadata": {},
     "output_type": "execute_result"
    }
   ],
   "source": [
    "77 % 2"
   ]
  },
  {
   "cell_type": "code",
   "execution_count": 59,
   "metadata": {},
   "outputs": [
    {
     "name": "stdout",
     "output_type": "stream",
     "text": [
      "yes\n",
      "ok\n"
     ]
    }
   ],
   "source": [
    "if 2 + 2 == 4:\n",
    "    # if 2 + 2 is 4, then\n",
    "    # run all of the indented statements\n",
    "    print('yes')\n",
    "    print('ok')"
   ]
  },
  {
   "cell_type": "code",
   "execution_count": 62,
   "metadata": {},
   "outputs": [
    {
     "name": "stdout",
     "output_type": "stream",
     "text": [
      "not Dave\n"
     ]
    }
   ],
   "source": [
    "if name != 'Dave':\n",
    "    print('not Dave')\n"
   ]
  },
  {
   "cell_type": "code",
   "execution_count": 61,
   "metadata": {},
   "outputs": [
    {
     "data": {
      "text/plain": [
       "'Puxsutawney'"
      ]
     },
     "execution_count": 61,
     "metadata": {},
     "output_type": "execute_result"
    }
   ],
   "source": [
    "name"
   ]
  },
  {
   "cell_type": "code",
   "execution_count": 3,
   "metadata": {},
   "outputs": [
    {
     "name": "stdout",
     "output_type": "stream",
     "text": [
      "even\n",
      "more lines\n"
     ]
    }
   ],
   "source": [
    "number = 50\n",
    "\n",
    "if number % 2 == 0:\n",
    "    print('even')\n",
    "    print('more lines')"
   ]
  },
  {
   "cell_type": "code",
   "execution_count": 6,
   "metadata": {},
   "outputs": [
    {
     "name": "stdout",
     "output_type": "stream",
     "text": [
      "last\n"
     ]
    }
   ],
   "source": [
    "number = 33\n",
    "\n",
    "if number == 1:\n",
    "    print('one')\n",
    "elif number == 2:\n",
    "    print('two')\n",
    "elif number == 3:\n",
    "    print('three')\n",
    "else:\n",
    "    print('last')"
   ]
  },
  {
   "cell_type": "code",
   "execution_count": 10,
   "metadata": {},
   "outputs": [],
   "source": [
    "name = 'Guido'\n",
    "\n",
    "if name == 'Bruce Lee':\n",
    "    print('hi')"
   ]
  },
  {
   "cell_type": "markdown",
   "metadata": {},
   "source": [
    "# loops\n",
    "* __`for`__: when we know the number of the times we want to repeat an action\n",
    "  * e.g., counting, checking your eggs at the store\n",
    "  * e.g., go 6 blocks and turn right\n",
    "* __`while`__: when we don't know the number of times, so instead we specify a stopping condition\n",
    "  * e.g., waiting to cross the street\n",
    "  * e.g., drive down Market St. until you see a \"No outlet\" sign and turn left there\n",
    "  * e.g., anyone in here have a birthday in April"
   ]
  },
  {
   "cell_type": "code",
   "execution_count": 11,
   "metadata": {},
   "outputs": [],
   "source": [
    "import random"
   ]
  },
  {
   "cell_type": "code",
   "execution_count": 12,
   "metadata": {},
   "outputs": [
    {
     "data": {
      "text/plain": [
       "['BPF',\n",
       " 'LOG4',\n",
       " 'NV_MAGICCONST',\n",
       " 'RECIP_BPF',\n",
       " 'Random',\n",
       " 'SG_MAGICCONST',\n",
       " 'SystemRandom',\n",
       " 'TWOPI',\n",
       " '_ONE',\n",
       " '_Sequence',\n",
       " '__all__',\n",
       " '__builtins__',\n",
       " '__cached__',\n",
       " '__doc__',\n",
       " '__file__',\n",
       " '__loader__',\n",
       " '__name__',\n",
       " '__package__',\n",
       " '__spec__',\n",
       " '_accumulate',\n",
       " '_acos',\n",
       " '_bisect',\n",
       " '_ceil',\n",
       " '_cos',\n",
       " '_e',\n",
       " '_exp',\n",
       " '_fabs',\n",
       " '_floor',\n",
       " '_index',\n",
       " '_inst',\n",
       " '_isfinite',\n",
       " '_lgamma',\n",
       " '_log',\n",
       " '_log2',\n",
       " '_os',\n",
       " '_parse_args',\n",
       " '_pi',\n",
       " '_random',\n",
       " '_repeat',\n",
       " '_sha512',\n",
       " '_sin',\n",
       " '_sqrt',\n",
       " '_test',\n",
       " '_test_generator',\n",
       " '_urandom',\n",
       " 'betavariate',\n",
       " 'binomialvariate',\n",
       " 'choice',\n",
       " 'choices',\n",
       " 'expovariate',\n",
       " 'gammavariate',\n",
       " 'gauss',\n",
       " 'getrandbits',\n",
       " 'getstate',\n",
       " 'lognormvariate',\n",
       " 'main',\n",
       " 'normalvariate',\n",
       " 'paretovariate',\n",
       " 'randbytes',\n",
       " 'randint',\n",
       " 'random',\n",
       " 'randrange',\n",
       " 'sample',\n",
       " 'seed',\n",
       " 'setstate',\n",
       " 'shuffle',\n",
       " 'triangular',\n",
       " 'uniform',\n",
       " 'vonmisesvariate',\n",
       " 'weibullvariate']"
      ]
     },
     "execution_count": 12,
     "metadata": {},
     "output_type": "execute_result"
    }
   ],
   "source": [
    "dir(random)"
   ]
  },
  {
   "cell_type": "code",
   "execution_count": 13,
   "metadata": {},
   "outputs": [
    {
     "data": {
      "text/plain": [
       "['__doc__',\n",
       " '__file__',\n",
       " '__loader__',\n",
       " '__name__',\n",
       " '__package__',\n",
       " '__spec__',\n",
       " 'acos',\n",
       " 'acosh',\n",
       " 'asin',\n",
       " 'asinh',\n",
       " 'atan',\n",
       " 'atan2',\n",
       " 'atanh',\n",
       " 'cbrt',\n",
       " 'ceil',\n",
       " 'comb',\n",
       " 'copysign',\n",
       " 'cos',\n",
       " 'cosh',\n",
       " 'degrees',\n",
       " 'dist',\n",
       " 'e',\n",
       " 'erf',\n",
       " 'erfc',\n",
       " 'exp',\n",
       " 'exp2',\n",
       " 'expm1',\n",
       " 'fabs',\n",
       " 'factorial',\n",
       " 'floor',\n",
       " 'fma',\n",
       " 'fmod',\n",
       " 'frexp',\n",
       " 'fsum',\n",
       " 'gamma',\n",
       " 'gcd',\n",
       " 'hypot',\n",
       " 'inf',\n",
       " 'isclose',\n",
       " 'isfinite',\n",
       " 'isinf',\n",
       " 'isnan',\n",
       " 'isqrt',\n",
       " 'lcm',\n",
       " 'ldexp',\n",
       " 'lgamma',\n",
       " 'log',\n",
       " 'log10',\n",
       " 'log1p',\n",
       " 'log2',\n",
       " 'modf',\n",
       " 'nan',\n",
       " 'nextafter',\n",
       " 'perm',\n",
       " 'pi',\n",
       " 'pow',\n",
       " 'prod',\n",
       " 'radians',\n",
       " 'remainder',\n",
       " 'sin',\n",
       " 'sinh',\n",
       " 'sqrt',\n",
       " 'sumprod',\n",
       " 'tan',\n",
       " 'tanh',\n",
       " 'tau',\n",
       " 'trunc',\n",
       " 'ulp']"
      ]
     },
     "execution_count": 13,
     "metadata": {},
     "output_type": "execute_result"
    }
   ],
   "source": [
    "import math\n",
    "dir(math)"
   ]
  },
  {
   "cell_type": "code",
   "execution_count": 14,
   "metadata": {},
   "outputs": [
    {
     "name": "stdout",
     "output_type": "stream",
     "text": [
      "Help on module math:\n",
      "\n",
      "NAME\n",
      "    math\n",
      "\n",
      "MODULE REFERENCE\n",
      "    https://docs.python.org/3.13/library/math.html\n",
      "\n",
      "    The following documentation is automatically generated from the Python\n",
      "    source files.  It may be incomplete, incorrect or include features that\n",
      "    are considered implementation detail and may vary between Python\n",
      "    implementations.  When in doubt, consult the module reference at the\n",
      "    location listed above.\n",
      "\n",
      "DESCRIPTION\n",
      "    This module provides access to the mathematical functions\n",
      "    defined by the C standard.\n",
      "\n",
      "FUNCTIONS\n",
      "    acos(x, /)\n",
      "        Return the arc cosine (measured in radians) of x.\n",
      "\n",
      "        The result is between 0 and pi.\n",
      "\n",
      "    acosh(x, /)\n",
      "        Return the inverse hyperbolic cosine of x.\n",
      "\n",
      "    asin(x, /)\n",
      "        Return the arc sine (measured in radians) of x.\n",
      "\n",
      "        The result is between -pi/2 and pi/2.\n",
      "\n",
      "    asinh(x, /)\n",
      "        Return the inverse hyperbolic sine of x.\n",
      "\n",
      "    atan(x, /)\n",
      "        Return the arc tangent (measured in radians) of x.\n",
      "\n",
      "        The result is between -pi/2 and pi/2.\n",
      "\n",
      "    atan2(y, x, /)\n",
      "        Return the arc tangent (measured in radians) of y/x.\n",
      "\n",
      "        Unlike atan(y/x), the signs of both x and y are considered.\n",
      "\n",
      "    atanh(x, /)\n",
      "        Return the inverse hyperbolic tangent of x.\n",
      "\n",
      "    cbrt(x, /)\n",
      "        Return the cube root of x.\n",
      "\n",
      "    ceil(x, /)\n",
      "        Return the ceiling of x as an Integral.\n",
      "\n",
      "        This is the smallest integer >= x.\n",
      "\n",
      "    comb(n, k, /)\n",
      "        Number of ways to choose k items from n items without repetition and without order.\n",
      "\n",
      "        Evaluates to n! / (k! * (n - k)!) when k <= n and evaluates\n",
      "        to zero when k > n.\n",
      "\n",
      "        Also called the binomial coefficient because it is equivalent\n",
      "        to the coefficient of k-th term in polynomial expansion of the\n",
      "        expression (1 + x)**n.\n",
      "\n",
      "        Raises TypeError if either of the arguments are not integers.\n",
      "        Raises ValueError if either of the arguments are negative.\n",
      "\n",
      "    copysign(x, y, /)\n",
      "        Return a float with the magnitude (absolute value) of x but the sign of y.\n",
      "\n",
      "        On platforms that support signed zeros, copysign(1.0, -0.0)\n",
      "        returns -1.0.\n",
      "\n",
      "    cos(x, /)\n",
      "        Return the cosine of x (measured in radians).\n",
      "\n",
      "    cosh(x, /)\n",
      "        Return the hyperbolic cosine of x.\n",
      "\n",
      "    degrees(x, /)\n",
      "        Convert angle x from radians to degrees.\n",
      "\n",
      "    dist(p, q, /)\n",
      "        Return the Euclidean distance between two points p and q.\n",
      "\n",
      "        The points should be specified as sequences (or iterables) of\n",
      "        coordinates.  Both inputs must have the same dimension.\n",
      "\n",
      "        Roughly equivalent to:\n",
      "            sqrt(sum((px - qx) ** 2.0 for px, qx in zip(p, q)))\n",
      "\n",
      "    erf(x, /)\n",
      "        Error function at x.\n",
      "\n",
      "    erfc(x, /)\n",
      "        Complementary error function at x.\n",
      "\n",
      "    exp(x, /)\n",
      "        Return e raised to the power of x.\n",
      "\n",
      "    exp2(x, /)\n",
      "        Return 2 raised to the power of x.\n",
      "\n",
      "    expm1(x, /)\n",
      "        Return exp(x)-1.\n",
      "\n",
      "        This function avoids the loss of precision involved in the direct evaluation of exp(x)-1 for small x.\n",
      "\n",
      "    fabs(x, /)\n",
      "        Return the absolute value of the float x.\n",
      "\n",
      "    factorial(n, /)\n",
      "        Find n!.\n",
      "\n",
      "        Raise a ValueError if x is negative or non-integral.\n",
      "\n",
      "    floor(x, /)\n",
      "        Return the floor of x as an Integral.\n",
      "\n",
      "        This is the largest integer <= x.\n",
      "\n",
      "    fma(x, y, z, /)\n",
      "        Fused multiply-add operation.\n",
      "\n",
      "        Compute (x * y) + z with a single round.\n",
      "\n",
      "    fmod(x, y, /)\n",
      "        Return fmod(x, y), according to platform C.\n",
      "\n",
      "        x % y may differ.\n",
      "\n",
      "    frexp(x, /)\n",
      "        Return the mantissa and exponent of x, as pair (m, e).\n",
      "\n",
      "        m is a float and e is an int, such that x = m * 2.**e.\n",
      "        If x is 0, m and e are both 0.  Else 0.5 <= abs(m) < 1.0.\n",
      "\n",
      "    fsum(seq, /)\n",
      "        Return an accurate floating-point sum of values in the iterable seq.\n",
      "\n",
      "        Assumes IEEE-754 floating-point arithmetic.\n",
      "\n",
      "    gamma(x, /)\n",
      "        Gamma function at x.\n",
      "\n",
      "    gcd(*integers)\n",
      "        Greatest Common Divisor.\n",
      "\n",
      "    hypot(...)\n",
      "        hypot(*coordinates) -> value\n",
      "\n",
      "        Multidimensional Euclidean distance from the origin to a point.\n",
      "\n",
      "        Roughly equivalent to:\n",
      "            sqrt(sum(x**2 for x in coordinates))\n",
      "\n",
      "        For a two dimensional point (x, y), gives the hypotenuse\n",
      "        using the Pythagorean theorem:  sqrt(x*x + y*y).\n",
      "\n",
      "        For example, the hypotenuse of a 3/4/5 right triangle is:\n",
      "\n",
      "            >>> hypot(3.0, 4.0)\n",
      "            5.0\n",
      "\n",
      "    isclose(a, b, *, rel_tol=1e-09, abs_tol=0.0)\n",
      "        Determine whether two floating-point numbers are close in value.\n",
      "\n",
      "          rel_tol\n",
      "            maximum difference for being considered \"close\", relative to the\n",
      "            magnitude of the input values\n",
      "          abs_tol\n",
      "            maximum difference for being considered \"close\", regardless of the\n",
      "            magnitude of the input values\n",
      "\n",
      "        Return True if a is close in value to b, and False otherwise.\n",
      "\n",
      "        For the values to be considered close, the difference between them\n",
      "        must be smaller than at least one of the tolerances.\n",
      "\n",
      "        -inf, inf and NaN behave similarly to the IEEE 754 Standard.  That\n",
      "        is, NaN is not close to anything, even itself.  inf and -inf are\n",
      "        only close to themselves.\n",
      "\n",
      "    isfinite(x, /)\n",
      "        Return True if x is neither an infinity nor a NaN, and False otherwise.\n",
      "\n",
      "    isinf(x, /)\n",
      "        Return True if x is a positive or negative infinity, and False otherwise.\n",
      "\n",
      "    isnan(x, /)\n",
      "        Return True if x is a NaN (not a number), and False otherwise.\n",
      "\n",
      "    isqrt(n, /)\n",
      "        Return the integer part of the square root of the input.\n",
      "\n",
      "    lcm(*integers)\n",
      "        Least Common Multiple.\n",
      "\n",
      "    ldexp(x, i, /)\n",
      "        Return x * (2**i).\n",
      "\n",
      "        This is essentially the inverse of frexp().\n",
      "\n",
      "    lgamma(x, /)\n",
      "        Natural logarithm of absolute value of Gamma function at x.\n",
      "\n",
      "    log(...)\n",
      "        log(x, [base=math.e])\n",
      "        Return the logarithm of x to the given base.\n",
      "\n",
      "        If the base is not specified, returns the natural logarithm (base e) of x.\n",
      "\n",
      "    log10(x, /)\n",
      "        Return the base 10 logarithm of x.\n",
      "\n",
      "    log1p(x, /)\n",
      "        Return the natural logarithm of 1+x (base e).\n",
      "\n",
      "        The result is computed in a way which is accurate for x near zero.\n",
      "\n",
      "    log2(x, /)\n",
      "        Return the base 2 logarithm of x.\n",
      "\n",
      "    modf(x, /)\n",
      "        Return the fractional and integer parts of x.\n",
      "\n",
      "        Both results carry the sign of x and are floats.\n",
      "\n",
      "    nextafter(x, y, /, *, steps=None)\n",
      "        Return the floating-point value the given number of steps after x towards y.\n",
      "\n",
      "        If steps is not specified or is None, it defaults to 1.\n",
      "\n",
      "        Raises a TypeError, if x or y is not a double, or if steps is not an integer.\n",
      "        Raises ValueError if steps is negative.\n",
      "\n",
      "    perm(n, k=None, /)\n",
      "        Number of ways to choose k items from n items without repetition and with order.\n",
      "\n",
      "        Evaluates to n! / (n - k)! when k <= n and evaluates\n",
      "        to zero when k > n.\n",
      "\n",
      "        If k is not specified or is None, then k defaults to n\n",
      "        and the function returns n!.\n",
      "\n",
      "        Raises TypeError if either of the arguments are not integers.\n",
      "        Raises ValueError if either of the arguments are negative.\n",
      "\n",
      "    pow(x, y, /)\n",
      "        Return x**y (x to the power of y).\n",
      "\n",
      "    prod(iterable, /, *, start=1)\n",
      "        Calculate the product of all the elements in the input iterable.\n",
      "\n",
      "        The default start value for the product is 1.\n",
      "\n",
      "        When the iterable is empty, return the start value.  This function is\n",
      "        intended specifically for use with numeric values and may reject\n",
      "        non-numeric types.\n",
      "\n",
      "    radians(x, /)\n",
      "        Convert angle x from degrees to radians.\n",
      "\n",
      "    remainder(x, y, /)\n",
      "        Difference between x and the closest integer multiple of y.\n",
      "\n",
      "        Return x - n*y where n*y is the closest integer multiple of y.\n",
      "        In the case where x is exactly halfway between two multiples of\n",
      "        y, the nearest even value of n is used. The result is always exact.\n",
      "\n",
      "    sin(x, /)\n",
      "        Return the sine of x (measured in radians).\n",
      "\n",
      "    sinh(x, /)\n",
      "        Return the hyperbolic sine of x.\n",
      "\n",
      "    sqrt(x, /)\n",
      "        Return the square root of x.\n",
      "\n",
      "    sumprod(p, q, /)\n",
      "        Return the sum of products of values from two iterables p and q.\n",
      "\n",
      "        Roughly equivalent to:\n",
      "\n",
      "            sum(itertools.starmap(operator.mul, zip(p, q, strict=True)))\n",
      "\n",
      "        For float and mixed int/float inputs, the intermediate products\n",
      "        and sums are computed with extended precision.\n",
      "\n",
      "    tan(x, /)\n",
      "        Return the tangent of x (measured in radians).\n",
      "\n",
      "    tanh(x, /)\n",
      "        Return the hyperbolic tangent of x.\n",
      "\n",
      "    trunc(x, /)\n",
      "        Truncates the Real x to the nearest Integral toward 0.\n",
      "\n",
      "        Uses the __trunc__ magic method.\n",
      "\n",
      "    ulp(x, /)\n",
      "        Return the value of the least significant bit of the float x.\n",
      "\n",
      "DATA\n",
      "    e = 2.718281828459045\n",
      "    inf = inf\n",
      "    nan = nan\n",
      "    pi = 3.141592653589793\n",
      "    tau = 6.283185307179586\n",
      "\n",
      "FILE\n",
      "    /Library/Frameworks/Python.framework/Versions/3.13/lib/python3.13/lib-dynload/math.cpython-313-darwin.so\n",
      "\n",
      "\n"
     ]
    }
   ],
   "source": [
    "# if we want to know more...\n",
    "help(math)"
   ]
  },
  {
   "cell_type": "code",
   "execution_count": 16,
   "metadata": {},
   "outputs": [
    {
     "name": "stdout",
     "output_type": "stream",
     "text": [
      "\u001b[0;31mSignature:\u001b[0m \u001b[0mrandom\u001b[0m\u001b[0;34m.\u001b[0m\u001b[0mrandint\u001b[0m\u001b[0;34m(\u001b[0m\u001b[0ma\u001b[0m\u001b[0;34m,\u001b[0m \u001b[0mb\u001b[0m\u001b[0;34m)\u001b[0m\u001b[0;34m\u001b[0m\u001b[0;34m\u001b[0m\u001b[0m\n",
      "\u001b[0;31mDocstring:\u001b[0m\n",
      "Return random integer in range [a, b], including both end points.\n",
      "        \n",
      "\u001b[0;31mFile:\u001b[0m      /Library/Frameworks/Python.framework/Versions/3.13/lib/python3.13/random.py\n",
      "\u001b[0;31mType:\u001b[0m      method"
     ]
    }
   ],
   "source": [
    "random.randint?"
   ]
  },
  {
   "cell_type": "code",
   "execution_count": 26,
   "metadata": {},
   "outputs": [
    {
     "data": {
      "text/plain": [
       "27"
      ]
     },
     "execution_count": 26,
     "metadata": {},
     "output_type": "execute_result"
    }
   ],
   "source": [
    "random.randint(1, 100)"
   ]
  },
  {
   "cell_type": "code",
   "execution_count": 37,
   "metadata": {},
   "outputs": [],
   "source": [
    "guess = input('Enter a guess: ')"
   ]
  },
  {
   "cell_type": "code",
   "execution_count": 38,
   "metadata": {},
   "outputs": [
    {
     "data": {
      "text/plain": [
       "'four'"
      ]
     },
     "execution_count": 38,
     "metadata": {},
     "output_type": "execute_result"
    }
   ],
   "source": [
    "guess"
   ]
  },
  {
   "cell_type": "code",
   "execution_count": 40,
   "metadata": {},
   "outputs": [
    {
     "ename": "ValueError",
     "evalue": "invalid literal for int() with base 10: 'four'",
     "output_type": "error",
     "traceback": [
      "\u001b[0;31m---------------------------------------------------------------------------\u001b[0m",
      "\u001b[0;31mValueError\u001b[0m                                Traceback (most recent call last)",
      "Cell \u001b[0;32mIn[40], line 1\u001b[0m\n\u001b[0;32m----> 1\u001b[0m \u001b[38;5;28;43mint\u001b[39;49m\u001b[43m(\u001b[49m\u001b[43mguess\u001b[49m\u001b[43m)\u001b[49m\n",
      "\u001b[0;31mValueError\u001b[0m: invalid literal for int() with base 10: 'four'"
     ]
    }
   ],
   "source": [
    "int(guess)"
   ]
  },
  {
   "cell_type": "code",
   "execution_count": 39,
   "metadata": {},
   "outputs": [
    {
     "name": "stdout",
     "output_type": "stream",
     "text": [
      "bad guess\n"
     ]
    }
   ],
   "source": [
    "try: # try the following code...\n",
    "    print(int(guess))\n",
    "except ValueError: # if we get a value error, run the code in this block\n",
    "    print('bad guess')"
   ]
  },
  {
   "cell_type": "code",
   "execution_count": null,
   "metadata": {},
   "outputs": [
    {
     "name": "stdout",
     "output_type": "stream",
     "text": [
      "Please enter an integer! (You entered foo )\n",
      "Please enter an integer! (You entered  )\n",
      "Please enter an integer! (You entered fpp )\n",
      "Sorry that you're giving up!\n",
      "after the loop\n"
     ]
    }
   ],
   "source": [
    "import random # \"batteries included\"\n",
    "\n",
    "my_number = random.randint(1, 100)\n",
    "guess = 0 # \"prime the pump\"\n",
    "guess_count = 0\n",
    "\n",
    "while guess != my_number: # loop until...?\n",
    "    try:\n",
    "        guess = input('Enter your guess (enter \"stop\" to give up): ') # get input as a string\n",
    "        if guess == 'stop':\n",
    "            print(\"Sorry that you're giving up!\")\n",
    "            break\n",
    "        guess = int(guess) # now try to int-ify\n",
    "    except ValueError:\n",
    "        print('Please enter an integer! (You entered', guess, ')')\n",
    "        continue\n",
    "\n",
    "    # deal with invalid input...\n",
    "    if guess < 1 or guess > 100: # if the guess is invalid\n",
    "        print('Bad guess. Must be between 1 and 100. Try again!')\n",
    "        continue\n",
    "    \n",
    "    guess_count += 1 # increment the guess count\n",
    "\n",
    "    # respond to user, based on valid input\n",
    "    if guess > my_number:\n",
    "        print(\"Guess was too high\")\n",
    "    elif guess < my_number:\n",
    "        print(\"Guess was too low\")\n",
    "    else:\n",
    "        print(\"You got it!\")\n",
    "    \n",
    "print('after the loop')"
   ]
  },
  {
   "cell_type": "code",
   "execution_count": 47,
   "metadata": {},
   "outputs": [
    {
     "data": {
      "text/plain": [
       "3"
      ]
     },
     "execution_count": 47,
     "metadata": {},
     "output_type": "execute_result"
    }
   ],
   "source": [
    "int(3.4)"
   ]
  },
  {
   "cell_type": "code",
   "execution_count": 48,
   "metadata": {},
   "outputs": [
    {
     "data": {
      "text/plain": [
       "2"
      ]
     },
     "execution_count": 48,
     "metadata": {},
     "output_type": "execute_result"
    }
   ],
   "source": [
    "int(2)"
   ]
  },
  {
   "cell_type": "code",
   "execution_count": 50,
   "metadata": {},
   "outputs": [
    {
     "ename": "ValueError",
     "evalue": "invalid literal for int() with base 10: '234xjs'",
     "output_type": "error",
     "traceback": [
      "\u001b[0;31m---------------------------------------------------------------------------\u001b[0m",
      "\u001b[0;31mValueError\u001b[0m                                Traceback (most recent call last)",
      "Cell \u001b[0;32mIn[50], line 1\u001b[0m\n\u001b[0;32m----> 1\u001b[0m \u001b[38;5;28;43mint\u001b[39;49m\u001b[43m(\u001b[49m\u001b[38;5;124;43m'\u001b[39;49m\u001b[38;5;124;43m234xjs\u001b[39;49m\u001b[38;5;124;43m'\u001b[39;49m\u001b[43m)\u001b[49m\n",
      "\u001b[0;31mValueError\u001b[0m: invalid literal for int() with base 10: '234xjs'"
     ]
    }
   ],
   "source": [
    "int('234xjs')"
   ]
  },
  {
   "cell_type": "markdown",
   "metadata": {},
   "source": [
    "## Quick Lab: Loops/Strings\n",
    "* have the user enter a string, then loop through the string to generate (or print) a new string in which every character is duplicated, e.g., \"Python\" => \"PPyytthhoonn\""
   ]
  },
  {
   "cell_type": "code",
   "execution_count": null,
   "metadata": {},
   "outputs": [],
   "source": [
    "# 1. get a string from the user\n",
    "# 2. for each character in the string: # \"pseudocode\"\n",
    "# 3.     print that character twice, no NEWLINE"
   ]
  },
  {
   "cell_type": "code",
   "execution_count": 99,
   "metadata": {},
   "outputs": [
    {
     "name": "stdout",
     "output_type": "stream",
     "text": [
      "PPyytthhoonn"
     ]
    }
   ],
   "source": [
    "string = input('Enter something: ') # 1\n",
    "for char in string: # 2\n",
    "    print(char * 2, end='') # 3"
   ]
  },
  {
   "cell_type": "code",
   "execution_count": 100,
   "metadata": {},
   "outputs": [
    {
     "name": "stdout",
     "output_type": "stream",
     "text": [
      "PPyytthhoonn"
     ]
    }
   ],
   "source": [
    "# or...\n",
    "for char in string: # 2\n",
    "    print(char + char, end='') # 3"
   ]
  },
  {
   "cell_type": "code",
   "execution_count": 66,
   "metadata": {},
   "outputs": [
    {
     "name": "stdout",
     "output_type": "stream",
     "text": [
      "PPyytthhoonn"
     ]
    }
   ],
   "source": [
    "# or...\n",
    "for char in string: # 2\n",
    "    print(char, end=char) # 3"
   ]
  },
  {
   "cell_type": "code",
   "execution_count": 104,
   "metadata": {},
   "outputs": [
    {
     "data": {
      "text/plain": [
       "5"
      ]
     },
     "execution_count": 104,
     "metadata": {},
     "output_type": "execute_result"
    }
   ],
   "source": [
    "# suppose I want to know how many digits an integer has\n",
    "num = 12345\n",
    "# len(num) won't work\n",
    "len(str(num)) # Pythonic: convert int to str, and use len()"
   ]
  },
  {
   "cell_type": "code",
   "execution_count": 106,
   "metadata": {},
   "outputs": [
    {
     "data": {
      "text/plain": [
       "'5'"
      ]
     },
     "execution_count": 106,
     "metadata": {},
     "output_type": "execute_result"
    }
   ],
   "source": [
    "num = 12345 # does a number end in a specific digit, e.g., 5\n",
    "str(num)[-1]\n"
   ]
  },
  {
   "cell_type": "code",
   "execution_count": 107,
   "metadata": {},
   "outputs": [
    {
     "data": {
      "text/plain": [
       "5"
      ]
     },
     "execution_count": 107,
     "metadata": {},
     "output_type": "execute_result"
    }
   ],
   "source": [
    "num % 10 # divide num by 10 and give me the remainder"
   ]
  },
  {
   "cell_type": "code",
   "execution_count": 108,
   "metadata": {},
   "outputs": [
    {
     "data": {
      "text/plain": [
       "'2'"
      ]
     },
     "execution_count": 108,
     "metadata": {},
     "output_type": "execute_result"
    }
   ],
   "source": [
    "num = 12345 # does a number end in a specific digit, e.g., 5\n",
    "str(num)[1]"
   ]
  },
  {
   "cell_type": "code",
   "execution_count": 105,
   "metadata": {},
   "outputs": [
    {
     "data": {
      "text/plain": [
       "'n'"
      ]
     },
     "execution_count": 105,
     "metadata": {},
     "output_type": "execute_result"
    }
   ],
   "source": [
    "'Python'[-1]"
   ]
  },
  {
   "cell_type": "markdown",
   "metadata": {},
   "source": [
    "## Quick Lab: Loops/Numbers\n",
    "* write Python code to generate a 6-digit access/security code, like you get when your try to log in to a website and it sends a code to your phone...e.g., 031728"
   ]
  },
  {
   "cell_type": "code",
   "execution_count": 57,
   "metadata": {},
   "outputs": [],
   "source": [
    "# 0. start w/an empty code string\n",
    "# 1. repeat 6 times: \n",
    "# 2.    generate a random digit from 0..9\n",
    "# 3.    string-ify it and append it to a code string"
   ]
  },
  {
   "cell_type": "code",
   "execution_count": 68,
   "metadata": {},
   "outputs": [
    {
     "name": "stdout",
     "output_type": "stream",
     "text": [
      "093906\n"
     ]
    }
   ],
   "source": [
    "code_string = '' # 0\n",
    "for count in range(1, 7): # 1 (1..6, or 6 times)\n",
    "    digit = random.randint(0, 9) # 2\n",
    "    code_string += str(digit) # 3\n",
    "\n",
    "print(code_string)"
   ]
  },
  {
   "cell_type": "code",
   "execution_count": null,
   "metadata": {},
   "outputs": [],
   "source": [
    "code_string = '' # 0\n",
    "for _ in range(6): # more Pythonic way of creating a loop that repeats 6 times\n",
    "    digit = random.randint(0, 9) # 2\n",
    "    code_string += str(digit) # 3\n",
    "\n",
    "print(code_string)"
   ]
  },
  {
   "cell_type": "code",
   "execution_count": 95,
   "metadata": {},
   "outputs": [
    {
     "name": "stdout",
     "output_type": "stream",
     "text": [
      "000496\n"
     ]
    }
   ],
   "source": [
    "# if you try to do it solely as an int, it won't work\n",
    "# ...it won't necessarily generate 6 digits\n",
    "# so you have to pad the result with leading zeroes\n",
    "import random\n",
    "number = random.randint(0, 999_999)\n",
    "print((str(number).zfill(6))) # convert to str, then fill with leading 0"
   ]
  },
  {
   "cell_type": "code",
   "execution_count": 119,
   "metadata": {},
   "outputs": [
    {
     "name": "stdout",
     "output_type": "stream",
     "text": [
      "2 + 3 = 5\n",
      "000186684\n"
     ]
    }
   ],
   "source": [
    "# f-string (format)\n",
    "# an expression in {}s is by Python\n",
    "a = 2\n",
    "b = 3\n",
    "print(f'{a} + {b} = {a + b}')\n",
    "# make the thing you are printing be a (d)ecimal number of 6 digits, and pad with leading 0s if needed\n",
    "print(f\"{random.randint(0, 999_999):09d}\") "
   ]
  },
  {
   "cell_type": "code",
   "execution_count": 62,
   "metadata": {},
   "outputs": [
    {
     "name": "stdout",
     "output_type": "stream",
     "text": [
      "hibye\n"
     ]
    }
   ],
   "source": [
    "print('hi', end='')\n",
    "print('bye')"
   ]
  },
  {
   "cell_type": "code",
   "execution_count": 96,
   "metadata": {},
   "outputs": [
    {
     "data": {
      "text/plain": [
       "123456789"
      ]
     },
     "execution_count": 96,
     "metadata": {},
     "output_type": "execute_result"
    }
   ],
   "source": [
    "123_456_789 # indicate commas as _"
   ]
  },
  {
   "cell_type": "markdown",
   "metadata": {},
   "source": [
    "## Homework: Fibonacci\n",
    "* write code to print out the Fibonacci sequence up to a number of the user's choosing\n",
    "* user will enter either number of Fibonacci numbers they want to see or the maximum Fibonacci number they want to see (either a for loop or while loop)\n",
    "* first Fibonacci is 1, second Fibonacci is also 1, and every subsequent Fibonacci number is the sum of the previous two (1, 1, 2, 3, 5, 8, 13, 21, 34, ...)"
   ]
  },
  {
   "cell_type": "code",
   "execution_count": 120,
   "metadata": {},
   "outputs": [
    {
     "data": {
      "text/plain": [
       "'6789'"
      ]
     },
     "execution_count": 120,
     "metadata": {},
     "output_type": "execute_result"
    }
   ],
   "source": [
    "ssn = '123-45-6789'\n",
    "ssn[-4:]"
   ]
  },
  {
   "cell_type": "code",
   "execution_count": 121,
   "metadata": {},
   "outputs": [
    {
     "data": {
      "text/plain": [
       "'123'"
      ]
     },
     "execution_count": 121,
     "metadata": {},
     "output_type": "execute_result"
    }
   ],
   "source": [
    "ssn[:3]"
   ]
  },
  {
   "cell_type": "code",
   "execution_count": 122,
   "metadata": {},
   "outputs": [
    {
     "data": {
      "text/plain": [
       "'-45-6789'"
      ]
     },
     "execution_count": 122,
     "metadata": {},
     "output_type": "execute_result"
    }
   ],
   "source": [
    "ssn[3:]"
   ]
  },
  {
   "cell_type": "code",
   "execution_count": 124,
   "metadata": {},
   "outputs": [
    {
     "data": {
      "text/plain": [
       "'ytho'"
      ]
     },
     "execution_count": 124,
     "metadata": {},
     "output_type": "execute_result"
    }
   ],
   "source": [
    "'Python'[1:-1] # everything but first and last"
   ]
  },
  {
   "cell_type": "code",
   "execution_count": 128,
   "metadata": {},
   "outputs": [
    {
     "name": "stdout",
     "output_type": "stream",
     "text": [
      "1 1.1 1.1\n"
     ]
    }
   ],
   "source": [
    "print(1, 1.1, '1.1') # print() is general, can take all sorts of args"
   ]
  },
  {
   "cell_type": "code",
   "execution_count": 130,
   "metadata": {},
   "outputs": [
    {
     "name": "stdout",
     "output_type": "stream",
     "text": [
      "<module 'math' from '/Library/Frameworks/Python.framework/Versions/3.13/lib/python3.13/lib-dynload/math.cpython-313-darwin.so'>\n"
     ]
    }
   ],
   "source": [
    "import math # bring in the math library (module)\n",
    "print(math)"
   ]
  },
  {
   "cell_type": "code",
   "execution_count": 131,
   "metadata": {},
   "outputs": [
    {
     "data": {
      "text/plain": [
       "'1'"
      ]
     },
     "execution_count": 131,
     "metadata": {},
     "output_type": "execute_result"
    }
   ],
   "source": [
    "str(1)"
   ]
  },
  {
   "cell_type": "code",
   "execution_count": 132,
   "metadata": {},
   "outputs": [
    {
     "data": {
      "text/plain": [
       "'1.1'"
      ]
     },
     "execution_count": 132,
     "metadata": {},
     "output_type": "execute_result"
    }
   ],
   "source": [
    "str(1.1)"
   ]
  },
  {
   "cell_type": "code",
   "execution_count": 133,
   "metadata": {},
   "outputs": [
    {
     "data": {
      "text/plain": [
       "'1'"
      ]
     },
     "execution_count": 133,
     "metadata": {},
     "output_type": "execute_result"
    }
   ],
   "source": [
    "str('1')"
   ]
  },
  {
   "cell_type": "markdown",
   "metadata": {},
   "source": []
  },
  {
   "cell_type": "code",
   "execution_count": 135,
   "metadata": {},
   "outputs": [
    {
     "data": {
      "text/plain": [
       "8.0"
      ]
     },
     "execution_count": 135,
     "metadata": {},
     "output_type": "execute_result"
    }
   ],
   "source": [
    "max(1.1, 3, 4, -5, 8.0, 1)"
   ]
  },
  {
   "cell_type": "code",
   "execution_count": 136,
   "metadata": {},
   "outputs": [
    {
     "data": {
      "text/plain": [
       "'pear'"
      ]
     },
     "execution_count": 136,
     "metadata": {},
     "output_type": "execute_result"
    }
   ],
   "source": [
    "max('fig', 'pear', 'apple')"
   ]
  },
  {
   "cell_type": "code",
   "execution_count": 139,
   "metadata": {},
   "outputs": [
    {
     "data": {
      "text/plain": [
       "False"
      ]
     },
     "execution_count": 139,
     "metadata": {},
     "output_type": "execute_result"
    }
   ],
   "source": [
    "name.startswith('gu')"
   ]
  },
  {
   "cell_type": "code",
   "execution_count": 141,
   "metadata": {},
   "outputs": [
    {
     "name": "stdout",
     "output_type": "stream",
     "text": [
      "Help on built-in function find:\n",
      "\n",
      "find(sub[, start[, end]], /) method of builtins.str instance\n",
      "    Return the lowest index in S where substring sub is found, such that sub is contained within S[start:end].\n",
      "\n",
      "    Optional arguments start and end are interpreted as in slice notation.\n",
      "    Return -1 on failure.\n",
      "\n"
     ]
    }
   ],
   "source": [
    "help(name.find)"
   ]
  },
  {
   "cell_type": "code",
   "execution_count": 6,
   "metadata": {},
   "outputs": [],
   "source": [
    "name = 'Bruce Lee'"
   ]
  },
  {
   "cell_type": "code",
   "execution_count": 4,
   "metadata": {},
   "outputs": [],
   "source": [
    "# ChatGPT quiz on beginner Python\n",
    "# valid variable names\n",
    "# must start w/a letter\n",
    "# may contain letters, numbers, and underscores\n",
    "\n",
    "student_last_name9 = 'Dave'\n",
    "multiple_words_and_123456789_are_ok = 'yes'\n",
    "StudentLastName = 'Smith' # not Pythonic"
   ]
  },
  {
   "cell_type": "code",
   "execution_count": 8,
   "metadata": {},
   "outputs": [
    {
     "data": {
      "text/plain": [
       "'BRUCE LEE'"
      ]
     },
     "execution_count": 8,
     "metadata": {},
     "output_type": "execute_result"
    }
   ],
   "source": [
    "name.upper()"
   ]
  },
  {
   "cell_type": "code",
   "execution_count": 9,
   "metadata": {},
   "outputs": [
    {
     "data": {
      "text/plain": [
       "'Bruce Lee'"
      ]
     },
     "execution_count": 9,
     "metadata": {},
     "output_type": "execute_result"
    }
   ],
   "source": [
    "name"
   ]
  },
  {
   "cell_type": "code",
   "execution_count": 10,
   "metadata": {},
   "outputs": [],
   "source": [
    "name = 'dave'"
   ]
  },
  {
   "cell_type": "code",
   "execution_count": 12,
   "metadata": {},
   "outputs": [
    {
     "ename": "TypeError",
     "evalue": "'str' object does not support item assignment",
     "output_type": "error",
     "traceback": [
      "\u001b[0;31m---------------------------------------------------------------------------\u001b[0m",
      "\u001b[0;31mTypeError\u001b[0m                                 Traceback (most recent call last)",
      "Cell \u001b[0;32mIn[12], line 1\u001b[0m\n\u001b[0;32m----> 1\u001b[0m \u001b[43mname\u001b[49m\u001b[43m[\u001b[49m\u001b[38;5;241;43m0\u001b[39;49m\u001b[43m]\u001b[49m \u001b[38;5;241m=\u001b[39m \u001b[38;5;124m'\u001b[39m\u001b[38;5;124mD\u001b[39m\u001b[38;5;124m'\u001b[39m\n",
      "\u001b[0;31mTypeError\u001b[0m: 'str' object does not support item assignment"
     ]
    }
   ],
   "source": [
    "name[0] = 'D'"
   ]
  },
  {
   "cell_type": "code",
   "execution_count": 13,
   "metadata": {},
   "outputs": [],
   "source": [
    "name = 'Dave'"
   ]
  },
  {
   "cell_type": "code",
   "execution_count": 14,
   "metadata": {},
   "outputs": [
    {
     "data": {
      "text/plain": [
       "'dave'"
      ]
     },
     "execution_count": 14,
     "metadata": {},
     "output_type": "execute_result"
    }
   ],
   "source": [
    "name.lower()"
   ]
  },
  {
   "cell_type": "code",
   "execution_count": 15,
   "metadata": {},
   "outputs": [
    {
     "data": {
      "text/plain": [
       "str"
      ]
     },
     "execution_count": 15,
     "metadata": {},
     "output_type": "execute_result"
    }
   ],
   "source": [
    "type(name)"
   ]
  },
  {
   "cell_type": "code",
   "execution_count": 16,
   "metadata": {},
   "outputs": [
    {
     "data": {
      "text/plain": [
       "'dave'"
      ]
     },
     "execution_count": 16,
     "metadata": {},
     "output_type": "execute_result"
    }
   ],
   "source": [
    "name.lower() # STRING.METHOD(ARGUMENTS)"
   ]
  },
  {
   "cell_type": "code",
   "execution_count": 17,
   "metadata": {},
   "outputs": [
    {
     "name": "stdout",
     "output_type": "stream",
     "text": [
      "Dave\n"
     ]
    }
   ],
   "source": [
    "print(name)"
   ]
  },
  {
   "cell_type": "code",
   "execution_count": 18,
   "metadata": {},
   "outputs": [
    {
     "data": {
      "text/plain": [
       "4"
      ]
     },
     "execution_count": 18,
     "metadata": {},
     "output_type": "execute_result"
    }
   ],
   "source": [
    "len(name)"
   ]
  },
  {
   "cell_type": "code",
   "execution_count": 19,
   "metadata": {},
   "outputs": [
    {
     "data": {
      "text/plain": [
       "['In',\n",
       " 'Out',\n",
       " 'StudentLastName',\n",
       " '_',\n",
       " '_11',\n",
       " '_14',\n",
       " '_15',\n",
       " '_16',\n",
       " '_18',\n",
       " '_7',\n",
       " '_8',\n",
       " '_9',\n",
       " '__',\n",
       " '___',\n",
       " '__builtin__',\n",
       " '__builtins__',\n",
       " '__doc__',\n",
       " '__loader__',\n",
       " '__name__',\n",
       " '__package__',\n",
       " '__spec__',\n",
       " '__vsc_ipynb_file__',\n",
       " '_dh',\n",
       " '_i',\n",
       " '_i1',\n",
       " '_i10',\n",
       " '_i11',\n",
       " '_i12',\n",
       " '_i13',\n",
       " '_i14',\n",
       " '_i15',\n",
       " '_i16',\n",
       " '_i17',\n",
       " '_i18',\n",
       " '_i19',\n",
       " '_i2',\n",
       " '_i3',\n",
       " '_i4',\n",
       " '_i5',\n",
       " '_i6',\n",
       " '_i7',\n",
       " '_i8',\n",
       " '_i9',\n",
       " '_ih',\n",
       " '_ii',\n",
       " '_iii',\n",
       " '_oh',\n",
       " 'exit',\n",
       " 'get_ipython',\n",
       " 'multiple_words_and_123456789_are_ok',\n",
       " 'name',\n",
       " 'open',\n",
       " 'quit',\n",
       " 'student_last_name9']"
      ]
     },
     "execution_count": 19,
     "metadata": {},
     "output_type": "execute_result"
    }
   ],
   "source": [
    "dir()"
   ]
  },
  {
   "cell_type": "code",
   "execution_count": 20,
   "metadata": {},
   "outputs": [
    {
     "data": {
      "text/plain": [
       "['__doc__',\n",
       " '__file__',\n",
       " '__loader__',\n",
       " '__name__',\n",
       " '__package__',\n",
       " '__spec__',\n",
       " 'acos',\n",
       " 'acosh',\n",
       " 'asin',\n",
       " 'asinh',\n",
       " 'atan',\n",
       " 'atan2',\n",
       " 'atanh',\n",
       " 'cbrt',\n",
       " 'ceil',\n",
       " 'comb',\n",
       " 'copysign',\n",
       " 'cos',\n",
       " 'cosh',\n",
       " 'degrees',\n",
       " 'dist',\n",
       " 'e',\n",
       " 'erf',\n",
       " 'erfc',\n",
       " 'exp',\n",
       " 'exp2',\n",
       " 'expm1',\n",
       " 'fabs',\n",
       " 'factorial',\n",
       " 'floor',\n",
       " 'fma',\n",
       " 'fmod',\n",
       " 'frexp',\n",
       " 'fsum',\n",
       " 'gamma',\n",
       " 'gcd',\n",
       " 'hypot',\n",
       " 'inf',\n",
       " 'isclose',\n",
       " 'isfinite',\n",
       " 'isinf',\n",
       " 'isnan',\n",
       " 'isqrt',\n",
       " 'lcm',\n",
       " 'ldexp',\n",
       " 'lgamma',\n",
       " 'log',\n",
       " 'log10',\n",
       " 'log1p',\n",
       " 'log2',\n",
       " 'modf',\n",
       " 'nan',\n",
       " 'nextafter',\n",
       " 'perm',\n",
       " 'pi',\n",
       " 'pow',\n",
       " 'prod',\n",
       " 'radians',\n",
       " 'remainder',\n",
       " 'sin',\n",
       " 'sinh',\n",
       " 'sqrt',\n",
       " 'sumprod',\n",
       " 'tan',\n",
       " 'tanh',\n",
       " 'tau',\n",
       " 'trunc',\n",
       " 'ulp']"
      ]
     },
     "execution_count": 20,
     "metadata": {},
     "output_type": "execute_result"
    }
   ],
   "source": [
    "import math\n",
    "dir(math)"
   ]
  },
  {
   "cell_type": "code",
   "execution_count": 21,
   "metadata": {},
   "outputs": [],
   "source": [
    "name = 'Sean Ridder'"
   ]
  },
  {
   "cell_type": "code",
   "execution_count": 22,
   "metadata": {},
   "outputs": [],
   "source": [
    "name_upper = name.upper()\n",
    "name_lower = name.lower()"
   ]
  },
  {
   "cell_type": "code",
   "execution_count": 23,
   "metadata": {},
   "outputs": [
    {
     "data": {
      "text/plain": [
       "'sean ridder'"
      ]
     },
     "execution_count": 23,
     "metadata": {},
     "output_type": "execute_result"
    }
   ],
   "source": [
    "name_lower"
   ]
  },
  {
   "cell_type": "code",
   "execution_count": 24,
   "metadata": {},
   "outputs": [
    {
     "data": {
      "text/plain": [
       "'SEAN RIDDER'"
      ]
     },
     "execution_count": 24,
     "metadata": {},
     "output_type": "execute_result"
    }
   ],
   "source": [
    "name_upper"
   ]
  },
  {
   "cell_type": "markdown",
   "metadata": {},
   "source": [
    "## Quick Lab: String Functions\n",
    "* write a Python program to read in a sentence and tell the user how many vowels are in that sentence\n",
    "* so if the user entered \"Apples are my favorite fruit\", your program would respond with 10 (or 11 if you count 'y' as a vowel)\n",
    "* output the original string with any vowels \"highlighted\" by making them upper case, e.g., **ApplEs ArE my fAvOrItE frUIt**"
   ]
  },
  {
   "cell_type": "code",
   "execution_count": 27,
   "metadata": {},
   "outputs": [],
   "source": [
    "letter = 'i'"
   ]
  },
  {
   "cell_type": "code",
   "execution_count": 28,
   "metadata": {},
   "outputs": [
    {
     "data": {
      "text/plain": [
       "True"
      ]
     },
     "execution_count": 28,
     "metadata": {},
     "output_type": "execute_result"
    }
   ],
   "source": [
    "letter in 'aeiouAEIOU'"
   ]
  },
  {
   "cell_type": "code",
   "execution_count": 29,
   "metadata": {},
   "outputs": [
    {
     "data": {
      "text/plain": [
       "True"
      ]
     },
     "execution_count": 29,
     "metadata": {},
     "output_type": "execute_result"
    }
   ],
   "source": [
    "'a' in 'aeiou' # this is a vowel"
   ]
  },
  {
   "cell_type": "code",
   "execution_count": 35,
   "metadata": {},
   "outputs": [
    {
     "name": "stdout",
     "output_type": "stream",
     "text": [
      "ApplEs ArE mY fAvOrItE frUIt\n",
      "There are 11 vowels in that sentence\n"
     ]
    }
   ],
   "source": [
    "# 0. set count to 0\n",
    "# 1. get a sentence from the user\n",
    "# 2. for each letter/char in the sentence:\n",
    "# 3.    if it's a vowel:\n",
    "# 4.        print it as upper case\n",
    "# 4a.       increment count\n",
    "# 5.    else:\n",
    "# 6.        print it as lower case\n",
    "\n",
    "count = 0 # 0\n",
    "sentence = input('Enter a sentence: ') # 1 ... could we make it .lower() here?\n",
    "\n",
    "for char in sentence: # 2\n",
    "    if char in 'aeiouyAEIOUY': # 3\n",
    "        print(char.upper(), end='') # 4\n",
    "        count += 1 # 4a\n",
    "    else: # 5\n",
    "        print(char.lower(), end='')\n",
    "\n",
    "print()\n",
    "print('There are', count, 'vowels in that sentence')\n",
    "\n"
   ]
  },
  {
   "cell_type": "code",
   "execution_count": 30,
   "metadata": {},
   "outputs": [
    {
     "data": {
      "text/plain": [
       "True"
      ]
     },
     "execution_count": 30,
     "metadata": {},
     "output_type": "execute_result"
    }
   ],
   "source": [
    "'j' not in 'aeiou' # this is NOT a vowel"
   ]
  },
  {
   "cell_type": "markdown",
   "metadata": {},
   "source": [
    "## Lab: String Functions\n",
    "* write a Python program to read in a string/sentence and then read in a number __`n`__ (give it a better name, but we'll use __`n`__ for this explanation)\n",
    "* your program will print out the sentence such that the first __`n`__ characters (including any spaces) are upper case, then the next __`n`__ characters (including any spaces) are lower case, and so on\n",
    "  * so if the user entered __`Now is the time`__ followed by __`4`__, your program would output __`NOW is tHE Time`__\n",
    "  * notice that spaces are characters, so in the above example, __`Now `__ are the first 4 characters and they are printed as upper case (the space will of course not be printed any differently, it will just be a space)"
   ]
  },
  {
   "cell_type": "code",
   "execution_count": 31,
   "metadata": {},
   "outputs": [
    {
     "data": {
      "text/plain": [
       "'THIS IS A TEST'"
      ]
     },
     "execution_count": 31,
     "metadata": {},
     "output_type": "execute_result"
    }
   ],
   "source": [
    "'this is a test'.upper()"
   ]
  },
  {
   "cell_type": "code",
   "execution_count": 32,
   "metadata": {},
   "outputs": [
    {
     "data": {
      "text/plain": [
       "'$%#^$%##'"
      ]
     },
     "execution_count": 32,
     "metadata": {},
     "output_type": "execute_result"
    }
   ],
   "source": [
    "'$%#^$%##'.upper()"
   ]
  },
  {
   "cell_type": "code",
   "execution_count": null,
   "metadata": {},
   "outputs": [],
   "source": [
    "sentence = 'antidisestablishmentarianism'\n",
    "# Counting the vowels in a word or sentence\n",
    "# 1. look at each letter (for)\n",
    "# 2. if it's a vowel, write it below upper case and increment the count (if)\n",
    "# 3. otherwise, write it below lower case (else)"
   ]
  },
  {
   "cell_type": "code",
   "execution_count": null,
   "metadata": {},
   "outputs": [],
   "source": [
    "# refine the above steps into \"pseudocode\"\n",
    "# - a mix of Python and English, avoiding details of Python/programming language\n",
    "\n",
    "# 0. set count to 0\n",
    "# 0a. start with an empty string\n",
    "# 1. get a sentence from the user \n",
    "# 2. for each letter/char in the sentence:\n",
    "# 3.    if it's a vowel:\n",
    "# 4.        add the upper case of it to the string\n",
    "# 4a.       increment count\n",
    "# 5.    else:\n",
    "# 6.        add the lower case of it to the string\n",
    "# 7. print out the new string"
   ]
  },
  {
   "cell_type": "code",
   "execution_count": 42,
   "metadata": {},
   "outputs": [
    {
     "name": "stdout",
     "output_type": "stream",
     "text": [
      "nvh\n",
      "There are 0 vowels in that sentence\n"
     ]
    }
   ],
   "source": [
    "vowel_count = 0 # 0\n",
    "new_sentence = '' # 0a\n",
    "sentence = input('Enter something: ') # 1\n",
    "\n",
    "for char in sentence.lower(): # 2\n",
    "    if char in 'aeiou': # 3\n",
    "        new_sentence += char.upper() # 4\n",
    "        vowel_count += 1 # 4a\n",
    "    else: # 5\n",
    "        new_sentence += char.lower() # 6\n",
    "\n",
    "print(new_sentence) # 7\n",
    "print('There are', vowel_count, 'vowels in that sentence')\n",
    "\n"
   ]
  },
  {
   "cell_type": "code",
   "execution_count": 38,
   "metadata": {},
   "outputs": [
    {
     "data": {
      "text/plain": [
       "13"
      ]
     },
     "execution_count": 38,
     "metadata": {},
     "output_type": "execute_result"
    }
   ],
   "source": [
    "vowel_count"
   ]
  },
  {
   "cell_type": "code",
   "execution_count": 44,
   "metadata": {},
   "outputs": [
    {
     "data": {
      "text/plain": [
       "[1, 2, 5]"
      ]
     },
     "execution_count": 44,
     "metadata": {},
     "output_type": "execute_result"
    }
   ],
   "source": [
    "list([1, 2, 5]) # this will make a new list which is a copy of the old one"
   ]
  },
  {
   "cell_type": "code",
   "execution_count": 45,
   "metadata": {},
   "outputs": [
    {
     "data": {
      "text/plain": [
       "['s', 't', 'r', 'i', 'n', 'g']"
      ]
     },
     "execution_count": 45,
     "metadata": {},
     "output_type": "execute_result"
    }
   ],
   "source": [
    "list('string')"
   ]
  },
  {
   "cell_type": "code",
   "execution_count": 48,
   "metadata": {},
   "outputs": [],
   "source": [
    "stuff = input('Enter something: ').lower().split()"
   ]
  },
  {
   "cell_type": "code",
   "execution_count": 50,
   "metadata": {},
   "outputs": [
    {
     "data": {
      "text/plain": [
       "['apple', 'fig', 'pear', 'lime']"
      ]
     },
     "execution_count": 50,
     "metadata": {},
     "output_type": "execute_result"
    }
   ],
   "source": [
    "stuff"
   ]
  },
  {
   "cell_type": "code",
   "execution_count": 51,
   "metadata": {},
   "outputs": [
    {
     "name": "stdout",
     "output_type": "stream",
     "text": [
      "1\n",
      "2\n",
      "3\n",
      "4\n"
     ]
    }
   ],
   "source": [
    "for number in range(1, 5):\n",
    "    print(number)"
   ]
  },
  {
   "cell_type": "code",
   "execution_count": 52,
   "metadata": {},
   "outputs": [],
   "source": [
    "word = 'computer'"
   ]
  },
  {
   "cell_type": "code",
   "execution_count": 53,
   "metadata": {},
   "outputs": [
    {
     "name": "stdout",
     "output_type": "stream",
     "text": [
      "1\n",
      "2\n",
      "3\n",
      "4\n",
      "5\n",
      "6\n",
      "7\n"
     ]
    }
   ],
   "source": [
    "for number in range(1, len(word)):\n",
    "    print(number)"
   ]
  },
  {
   "cell_type": "code",
   "execution_count": 56,
   "metadata": {},
   "outputs": [
    {
     "name": "stdout",
     "output_type": "stream",
     "text": [
      "P\n",
      "y\n",
      "t\n",
      "h\n",
      "o\n",
      "n\n"
     ]
    }
   ],
   "source": [
    "for char in 'Python':\n",
    "    print(char)"
   ]
  },
  {
   "cell_type": "code",
   "execution_count": 55,
   "metadata": {},
   "outputs": [
    {
     "name": "stdout",
     "output_type": "stream",
     "text": [
      "P\n",
      "y\n",
      "t\n",
      "h\n",
      "o\n",
      "n\n"
     ]
    }
   ],
   "source": [
    "name = 'Python'\n",
    "\n",
    "for index in range(len(name)):\n",
    "    print(name[index])"
   ]
  },
  {
   "cell_type": "code",
   "execution_count": 57,
   "metadata": {},
   "outputs": [
    {
     "ename": "TypeError",
     "evalue": "'str' object does not support item assignment",
     "output_type": "error",
     "traceback": [
      "\u001b[0;31m---------------------------------------------------------------------------\u001b[0m",
      "\u001b[0;31mTypeError\u001b[0m                                 Traceback (most recent call last)",
      "Cell \u001b[0;32mIn[57], line 2\u001b[0m\n\u001b[1;32m      1\u001b[0m name \u001b[38;5;241m=\u001b[39m \u001b[38;5;124m'\u001b[39m\u001b[38;5;124mdave\u001b[39m\u001b[38;5;124m'\u001b[39m\n\u001b[0;32m----> 2\u001b[0m \u001b[43mname\u001b[49m\u001b[43m[\u001b[49m\u001b[38;5;241;43m0\u001b[39;49m\u001b[43m]\u001b[49m \u001b[38;5;241m=\u001b[39m \u001b[38;5;124m'\u001b[39m\u001b[38;5;124mD\u001b[39m\u001b[38;5;124m'\u001b[39m \u001b[38;5;66;03m# str is immutable which means you can't change it piecemeal\u001b[39;00m\n",
      "\u001b[0;31mTypeError\u001b[0m: 'str' object does not support item assignment"
     ]
    }
   ],
   "source": [
    "name = 'dave'\n",
    "name[0] = 'D' # str is immutable which means you can't change it piecemeal"
   ]
  },
  {
   "cell_type": "code",
   "execution_count": 58,
   "metadata": {},
   "outputs": [],
   "source": [
    "name = 'Dave'"
   ]
  },
  {
   "cell_type": "code",
   "execution_count": null,
   "metadata": {},
   "outputs": [],
   "source": [
    "company = 'salesforce'"
   ]
  },
  {
   "cell_type": "code",
   "execution_count": 70,
   "metadata": {},
   "outputs": [
    {
     "data": {
      "text/plain": [
       "['Sean', 'Justin', 'Virginia', 'Gaurav']"
      ]
     },
     "execution_count": 70,
     "metadata": {},
     "output_type": "execute_result"
    }
   ],
   "source": [
    "names = 'Sean Justin Virginia Gaurav'.split()\n",
    "names"
   ]
  },
  {
   "cell_type": "code",
   "execution_count": 71,
   "metadata": {},
   "outputs": [],
   "source": [
    "sorted_names = sorted(names) # built-in function DO NOT change the arguments passed to them"
   ]
  },
  {
   "cell_type": "code",
   "execution_count": 72,
   "metadata": {},
   "outputs": [
    {
     "data": {
      "text/plain": [
       "['Sean', 'Justin', 'Virginia', 'Gaurav']"
      ]
     },
     "execution_count": 72,
     "metadata": {},
     "output_type": "execute_result"
    }
   ],
   "source": [
    "names"
   ]
  },
  {
   "cell_type": "code",
   "execution_count": 73,
   "metadata": {},
   "outputs": [
    {
     "data": {
      "text/plain": [
       "['Gaurav', 'Justin', 'Sean', 'Virginia']"
      ]
     },
     "execution_count": 73,
     "metadata": {},
     "output_type": "execute_result"
    }
   ],
   "source": [
    "sorted_names"
   ]
  },
  {
   "cell_type": "code",
   "execution_count": 63,
   "metadata": {},
   "outputs": [
    {
     "name": "stdout",
     "output_type": "stream",
     "text": [
      "\u001b[0;31mSignature:\u001b[0m \u001b[0mnames\u001b[0m\u001b[0;34m.\u001b[0m\u001b[0msort\u001b[0m\u001b[0;34m(\u001b[0m\u001b[0;34m*\u001b[0m\u001b[0;34m,\u001b[0m \u001b[0mkey\u001b[0m\u001b[0;34m=\u001b[0m\u001b[0;32mNone\u001b[0m\u001b[0;34m,\u001b[0m \u001b[0mreverse\u001b[0m\u001b[0;34m=\u001b[0m\u001b[0;32mFalse\u001b[0m\u001b[0;34m)\u001b[0m\u001b[0;34m\u001b[0m\u001b[0;34m\u001b[0m\u001b[0m\n",
      "\u001b[0;31mDocstring:\u001b[0m\n",
      "Sort the list in ascending order and return None.\n",
      "\n",
      "The sort is in-place (i.e. the list itself is modified) and stable (i.e. the\n",
      "order of two equal elements is maintained).\n",
      "\n",
      "If a key function is given, apply it once to each list item and sort them,\n",
      "ascending or descending, according to their function values.\n",
      "\n",
      "The reverse flag can be set to sort in descending order.\n",
      "\u001b[0;31mType:\u001b[0m      builtin_function_or_method"
     ]
    }
   ],
   "source": [
    "names.sort?"
   ]
  },
  {
   "cell_type": "code",
   "execution_count": 64,
   "metadata": {},
   "outputs": [
    {
     "data": {
      "text/plain": [
       "['Sean', 'Justin', 'Virginia', 'Gaurav']"
      ]
     },
     "execution_count": 64,
     "metadata": {},
     "output_type": "execute_result"
    }
   ],
   "source": [
    "names"
   ]
  },
  {
   "cell_type": "code",
   "execution_count": 65,
   "metadata": {},
   "outputs": [],
   "source": [
    "names.sort() # just do it"
   ]
  },
  {
   "cell_type": "code",
   "execution_count": 66,
   "metadata": {},
   "outputs": [
    {
     "data": {
      "text/plain": [
       "['Gaurav', 'Justin', 'Sean', 'Virginia']"
      ]
     },
     "execution_count": 66,
     "metadata": {},
     "output_type": "execute_result"
    }
   ],
   "source": [
    "names"
   ]
  },
  {
   "cell_type": "markdown",
   "metadata": {},
   "source": [
    "## Quick Lab: Lists\n",
    "* Write a program that asks the user to input two lists and then finds and prints the common elements between them\n",
    "<pre>\n",
    "Enter a list of items: <b>apple cherry banana lemon</b>\n",
    "Enter a second list of items: <b>apple guava banana lime</b>\n",
    "Common elements: apple banana"
   ]
  },
  {
   "cell_type": "code",
   "execution_count": null,
   "metadata": {},
   "outputs": [],
   "source": [
    "# 1. input two lists\n",
    "# 1a. create an empty third list\n",
    "# 2. for each item in the first list:\n",
    "# 3.    if it's also in the second list:\n",
    "# 4.       add to a third list\n",
    "\n",
    "# what can go wrong with this technique?\n",
    "# you can leave out a step\n",
    "# you can mis-translate a step\n",
    "# you can write the steps out of order"
   ]
  },
  {
   "cell_type": "code",
   "execution_count": 4,
   "metadata": {},
   "outputs": [],
   "source": [
    "list1 = input('Enter a list of items: ').lower().split() # 1\n",
    "list2 = input('Enter a second list of items: ').lower().split() # 1"
   ]
  },
  {
   "cell_type": "code",
   "execution_count": 5,
   "metadata": {},
   "outputs": [
    {
     "name": "stdout",
     "output_type": "stream",
     "text": [
      "['one', 'two', 'three', 'four']\n",
      "['four', 'seven', 'eight', 'three']\n"
     ]
    }
   ],
   "source": [
    "print(list1, list2, sep='\\n')"
   ]
  },
  {
   "cell_type": "code",
   "execution_count": 6,
   "metadata": {},
   "outputs": [
    {
     "name": "stdout",
     "output_type": "stream",
     "text": [
      "['three', 'four']\n"
     ]
    }
   ],
   "source": [
    "common_items = [] # 1a\n",
    "\n",
    "for item in list1: # 2\n",
    "    if item in list2: # 3 (is it the second list, w/o regard to position)\n",
    "       common_items.append(item)\n",
    "\n",
    "print(common_items)\n"
   ]
  },
  {
   "cell_type": "code",
   "execution_count": 1,
   "metadata": {},
   "outputs": [
    {
     "data": {
      "text/plain": [
       "['one', 'two', 'three']"
      ]
     },
     "execution_count": 1,
     "metadata": {},
     "output_type": "execute_result"
    }
   ],
   "source": [
    "'one two three'.split()"
   ]
  },
  {
   "cell_type": "code",
   "execution_count": 2,
   "metadata": {},
   "outputs": [],
   "source": [
    "suits = 'clubs diamonds hearts spades'.split()"
   ]
  },
  {
   "cell_type": "code",
   "execution_count": 3,
   "metadata": {},
   "outputs": [
    {
     "data": {
      "text/plain": [
       "['clubs', 'diamonds', 'hearts', 'spades']"
      ]
     },
     "execution_count": 3,
     "metadata": {},
     "output_type": "execute_result"
    }
   ],
   "source": [
    "suits"
   ]
  },
  {
   "cell_type": "markdown",
   "metadata": {},
   "source": [
    "## Group Lab: Lists\n",
    "* Write a Python program to maintain a list\n",
    "  * Read input until the user enters 'quit'\n",
    "  * Words that the user enters should be added to the list\n",
    "  * If a word begins with '-' (e.g., '-foo') it should be removed from the list\n",
    "  * If the user enters only a '-', the list should be reversed\n",
    "  * After each operation, print the list\n",
    "  * Extras:\n",
    "      * If user enters more than one word (e.g, __foo bar__), add \"foo\" and \"bar\" to the list, rather than \"foo bar\"\n",
    "      * Same for \"-\", i.e., __-foo bar__ would remove \"foo\" and \"bar\" from the  list"
   ]
  },
  {
   "cell_type": "code",
   "execution_count": 9,
   "metadata": {},
   "outputs": [
    {
     "name": "stdout",
     "output_type": "stream",
     "text": [
      "['apple']\n",
      "['apple', 'fig']\n",
      "['apple', 'fig', 'pear']\n"
     ]
    }
   ],
   "source": [
    "# read input until user says \"quit\"\n",
    "\n",
    "wordlist = []\n",
    "\n",
    "# the \"walrus\" operator will let us get a value and compare it in the same breath\n",
    "# \"assignment expression\"\n",
    "while (response := input('Enter something: ')) != 'quit':\n",
    "    wordlist.append(response)\n",
    "    print(wordlist)"
   ]
  },
  {
   "cell_type": "code",
   "execution_count": 18,
   "metadata": {},
   "outputs": [
    {
     "name": "stdout",
     "output_type": "stream",
     "text": [
      "['apple']\n",
      "['apple', 'fig']\n",
      "['apple', 'fig', 'pear']\n",
      "['apple', 'fig', 'pear', 'pear']\n",
      "['apple', 'fig']\n",
      "['apple', 'fig']\n"
     ]
    }
   ],
   "source": [
    "# read input until user says \"quit\"\n",
    "\n",
    "wordlist = []\n",
    "\n",
    "# the \"walrus\" operator will let us get a value and compare it in the same breath\n",
    "# \"assignment expression\"\n",
    "while (response := input('Enter something: ')) != 'quit':\n",
    "    # if the word begins with -, remove rather than add\n",
    "    if response[0] == '-': # e.g., \n",
    "        response = response[1:] # strip the leading - from the response\n",
    "        while response in wordlist:\n",
    "            wordlist.remove(response)\n",
    "    else:\n",
    "        wordlist.append(response)\n",
    "    print(wordlist)"
   ]
  },
  {
   "cell_type": "code",
   "execution_count": 15,
   "metadata": {},
   "outputs": [
    {
     "data": {
      "text/plain": [
       "True"
      ]
     },
     "execution_count": 15,
     "metadata": {},
     "output_type": "execute_result"
    }
   ],
   "source": [
    "'-apple'.startswith('-') # call a method to ask if the string starts with a -"
   ]
  },
  {
   "cell_type": "code",
   "execution_count": 16,
   "metadata": {},
   "outputs": [
    {
     "data": {
      "text/plain": [
       "True"
      ]
     },
     "execution_count": 16,
     "metadata": {},
     "output_type": "execute_result"
    }
   ],
   "source": [
    "'-apple'[0] == '-' # \"is character 0 a -?\""
   ]
  },
  {
   "cell_type": "code",
   "execution_count": 61,
   "metadata": {},
   "outputs": [
    {
     "name": "stdout",
     "output_type": "stream",
     "text": [
      "['apple']\n",
      "['apple', 'fig']\n",
      "['fig', 'apple']\n",
      "['apple']\n",
      "['apple']\n"
     ]
    }
   ],
   "source": [
    "# add - for reversing a list\n",
    "\n",
    "wordlist = []\n",
    "\n",
    "# the \"walrus\" operator will let us get a value and compare it in the same breath\n",
    "# \"assignment expression\"\n",
    "while (response := input('Enter something: ')) != 'quit':\n",
    "    # if the word begins with -, remove rather than add\n",
    "    if not response: # if response == '', i.e., they hit RETURN\n",
    "        print('No input detected...')\n",
    "        continue\n",
    "    if response[0] == '-': \n",
    "        # we know that response begins with a -\n",
    "        if response == '-': # is it exactly a -\n",
    "            wordlist = wordlist[::-1] # Python idiom for generating a reversed version\n",
    "            # wordlist.reverse() # reverse in place\n",
    "        else: # remove from the list \n",
    "            response = response[1:] # strip the leading - from the response\n",
    "            if response in wordlist:\n",
    "                while response in wordlist: # as long as response is in the list...\n",
    "                    wordlist.remove(response)\n",
    "            else:\n",
    "                print(response, 'not in list!')\n",
    "    else:\n",
    "        wordlist.append(response)\n",
    "    print(wordlist)"
   ]
  },
  {
   "cell_type": "code",
   "execution_count": null,
   "metadata": {},
   "outputs": [
    {
     "name": "stdout",
     "output_type": "stream",
     "text": [
      "['apple']\n",
      "['apple', 'fig']\n",
      "['apple', 'fig', '']\n"
     ]
    }
   ],
   "source": []
  },
  {
   "cell_type": "code",
   "execution_count": 39,
   "metadata": {},
   "outputs": [
    {
     "ename": "IndexError",
     "evalue": "string index out of range",
     "output_type": "error",
     "traceback": [
      "\u001b[0;31m---------------------------------------------------------------------------\u001b[0m",
      "\u001b[0;31mIndexError\u001b[0m                                Traceback (most recent call last)",
      "Cell \u001b[0;32mIn[39], line 1\u001b[0m\n\u001b[0;32m----> 1\u001b[0m \u001b[38;5;124;43m'\u001b[39;49m\u001b[38;5;124;43m'\u001b[39;49m\u001b[43m[\u001b[49m\u001b[38;5;241;43m0\u001b[39;49m\u001b[43m]\u001b[49m\n",
      "\u001b[0;31mIndexError\u001b[0m: string index out of range"
     ]
    }
   ],
   "source": [
    "''[0] # there is no 0th (1st) character in an empty string"
   ]
  },
  {
   "cell_type": "code",
   "execution_count": 19,
   "metadata": {},
   "outputs": [
    {
     "name": "stdout",
     "output_type": "stream",
     "text": [
      "apple\n",
      "fig\n",
      "pear\n"
     ]
    }
   ],
   "source": [
    "response = input('Enter something: ') # get an initial response\n",
    "\n",
    "while response != 'quit': # keep going as long as 'quit' not entered\n",
    "    print(response) # process the input\n",
    "    response = input('Enter something: ')"
   ]
  },
  {
   "cell_type": "code",
   "execution_count": 25,
   "metadata": {},
   "outputs": [],
   "source": [
    "value = 2"
   ]
  },
  {
   "cell_type": "code",
   "execution_count": 26,
   "metadata": {},
   "outputs": [],
   "source": [
    "if (number := value) == 1: # if the value I assigned to number was 1, then...\n",
    "    print('1 was assigned')"
   ]
  },
  {
   "cell_type": "code",
   "execution_count": 32,
   "metadata": {},
   "outputs": [],
   "source": [
    "numbers = [1, 2, 4, 5, 8, 9, 12]"
   ]
  },
  {
   "cell_type": "code",
   "execution_count": 33,
   "metadata": {},
   "outputs": [
    {
     "data": {
      "text/plain": [
       "12"
      ]
     },
     "execution_count": 33,
     "metadata": {},
     "output_type": "execute_result"
    }
   ],
   "source": [
    "numbers[-1]"
   ]
  },
  {
   "cell_type": "code",
   "execution_count": 35,
   "metadata": {},
   "outputs": [
    {
     "data": {
      "text/plain": [
       "[4, 5, 8]"
      ]
     },
     "execution_count": 35,
     "metadata": {},
     "output_type": "execute_result"
    }
   ],
   "source": [
    "numbers[:5] # the first 4 items"
   ]
  },
  {
   "cell_type": "code",
   "execution_count": 36,
   "metadata": {},
   "outputs": [
    {
     "data": {
      "text/plain": [
       "[1, 2, 4, 5, 8, 9, 12]"
      ]
     },
     "execution_count": 36,
     "metadata": {},
     "output_type": "execute_result"
    }
   ],
   "source": [
    "numbers[:]"
   ]
  },
  {
   "cell_type": "code",
   "execution_count": null,
   "metadata": {},
   "outputs": [],
   "source": [
    "numbers[:]"
   ]
  },
  {
   "cell_type": "code",
   "execution_count": 46,
   "metadata": {},
   "outputs": [],
   "source": [
    "value = 0.0"
   ]
  },
  {
   "cell_type": "code",
   "execution_count": 47,
   "metadata": {},
   "outputs": [],
   "source": [
    "if value:\n",
    "    print('yep')"
   ]
  },
  {
   "cell_type": "code",
   "execution_count": 54,
   "metadata": {},
   "outputs": [],
   "source": [
    "stuff = [1]"
   ]
  },
  {
   "cell_type": "code",
   "execution_count": 55,
   "metadata": {},
   "outputs": [
    {
     "name": "stdout",
     "output_type": "stream",
     "text": [
      "yep\n"
     ]
    }
   ],
   "source": [
    "if stuff: # if len(stuff) > 0\n",
    "    print('yep')"
   ]
  },
  {
   "cell_type": "code",
   "execution_count": 58,
   "metadata": {},
   "outputs": [
    {
     "name": "stdout",
     "output_type": "stream",
     "text": [
      "yep\n"
     ]
    }
   ],
   "source": [
    "if 'u':\n",
    "    print('yep')"
   ]
  },
  {
   "cell_type": "code",
   "execution_count": 56,
   "metadata": {},
   "outputs": [
    {
     "data": {
      "text/plain": [
       "0"
      ]
     },
     "execution_count": 56,
     "metadata": {},
     "output_type": "execute_result"
    }
   ],
   "source": [
    "len('')"
   ]
  },
  {
   "cell_type": "code",
   "execution_count": 63,
   "metadata": {},
   "outputs": [],
   "source": [
    "company = 'salesforce'"
   ]
  },
  {
   "cell_type": "code",
   "execution_count": 64,
   "metadata": {},
   "outputs": [
    {
     "data": {
      "text/plain": [
       "['s', 'a', 'l', 'e', 's', 'f', 'o', 'r', 'c', 'e']"
      ]
     },
     "execution_count": 64,
     "metadata": {},
     "output_type": "execute_result"
    }
   ],
   "source": [
    "list(company)"
   ]
  },
  {
   "cell_type": "code",
   "execution_count": 65,
   "metadata": {},
   "outputs": [
    {
     "data": {
      "text/plain": [
       "['a', 'c', 'e', 'e', 'f', 'l', 'o', 'r', 's', 's']"
      ]
     },
     "execution_count": 65,
     "metadata": {},
     "output_type": "execute_result"
    }
   ],
   "source": [
    "sorted(list(company))"
   ]
  },
  {
   "cell_type": "code",
   "execution_count": 66,
   "metadata": {},
   "outputs": [
    {
     "data": {
      "text/plain": [
       "'aceeflorss'"
      ]
     },
     "execution_count": 66,
     "metadata": {},
     "output_type": "execute_result"
    }
   ],
   "source": [
    "''.join(sorted(list(company)))"
   ]
  },
  {
   "cell_type": "code",
   "execution_count": 67,
   "metadata": {},
   "outputs": [
    {
     "data": {
      "text/plain": [
       "['s', 'a', 'l', 'e', 's', 'f', 'o', 'r', 'c', 'e']"
      ]
     },
     "execution_count": 67,
     "metadata": {},
     "output_type": "execute_result"
    }
   ],
   "source": [
    "list(company)"
   ]
  },
  {
   "cell_type": "code",
   "execution_count": null,
   "metadata": {},
   "outputs": [],
   "source": [
    "non_vowels = [char for char in company\n",
    "                      if char not in 'aeiou']"
   ]
  },
  {
   "cell_type": "code",
   "execution_count": 72,
   "metadata": {},
   "outputs": [
    {
     "data": {
      "text/plain": [
       "'s-l-s-f-r-c'"
      ]
     },
     "execution_count": 72,
     "metadata": {},
     "output_type": "execute_result"
    }
   ],
   "source": [
    "'-'.join(non_vowels)"
   ]
  },
  {
   "cell_type": "markdown",
   "metadata": {},
   "source": [
    "## List Comprehension solutions\n",
    "*  Start with Cartesian product example (colors x sizes of t-shirts) and a\n",
    "*  add a third list, __`sleeves = ['short', 'long']`__ then write a new listcomp which generates the Cartesian product __`colors x sizes x sleeves`__. __`tshirts`__ should look like this:<pre><b>\n",
    "    [['black', 'S', 'short'],\n",
    "     ['black', 'S', 'long'],\n",
    "     ['black', 'M', 'short'],\n",
    "     ['black', 'M', 'long'],\n",
    "     ['black', 'L', 'short'],\n",
    "     ['black', 'L', 'long'],\n",
    "     ['white', 'S', 'short'],\n",
    "     ['white', 'S', 'long'],\n",
    "     ['white', 'M', 'short'],\n",
    "     ['white', 'M', 'long'],\n",
    "     ['white', 'L', 'short'],\n",
    "     ['white', 'L', 'long']]    \n",
    " </b></pre>"
   ]
  },
  {
   "cell_type": "code",
   "execution_count": 2,
   "metadata": {},
   "outputs": [
    {
     "data": {
      "text/plain": [
       "[['black', 'S', 'short'],\n",
       " ['black', 'S', 'long'],\n",
       " ['black', 'M', 'short'],\n",
       " ['black', 'M', 'long'],\n",
       " ['black', 'L', 'short'],\n",
       " ['black', 'L', 'long'],\n",
       " ['black', 'XL', 'short'],\n",
       " ['black', 'XL', 'long'],\n",
       " ['white', 'S', 'short'],\n",
       " ['white', 'S', 'long'],\n",
       " ['white', 'M', 'short'],\n",
       " ['white', 'M', 'long'],\n",
       " ['white', 'L', 'short'],\n",
       " ['white', 'L', 'long'],\n",
       " ['white', 'XL', 'short'],\n",
       " ['white', 'XL', 'long']]"
      ]
     },
     "execution_count": 2,
     "metadata": {},
     "output_type": "execute_result"
    }
   ],
   "source": [
    "colors = ['black', 'white']\n",
    "sizes = ['S', 'M', 'L', 'XL']\n",
    "sleeves = ['short', 'long']\n",
    "\n",
    "tshirts = [[color, size, sleeve] for color in colors\n",
    "                                     for size in sizes\n",
    "                                         for sleeve in sleeves]\n",
    "tshirts"
   ]
  },
  {
   "cell_type": "markdown",
   "metadata": {},
   "source": [
    "* Use a list comprehension to create a list of the squares of the integers from 1 to 25 (i.e, 1, 4, 9, 16, …, 625)"
   ]
  },
  {
   "cell_type": "code",
   "execution_count": 3,
   "metadata": {},
   "outputs": [
    {
     "name": "stdout",
     "output_type": "stream",
     "text": [
      "[1, 4, 9, 16, 25, 36, 49, 64, 81, 100, 121, 144, 169, 196, 225, 256, 289, 324, 361, 400, 441, 484, 529, 576, 625]\n"
     ]
    }
   ],
   "source": [
    "squares = [number * number for number in range(1, 26)]\n",
    "print(squares)"
   ]
  },
  {
   "cell_type": "markdown",
   "metadata": {},
   "source": [
    "* Given a list of words, create a second list which contains all the words from the first list which do not end with a vowel"
   ]
  },
  {
   "cell_type": "code",
   "execution_count": 4,
   "metadata": {},
   "outputs": [
    {
     "name": "stdout",
     "output_type": "stream",
     "text": [
      "fig, pear, lemon, watermelon\n"
     ]
    }
   ],
   "source": [
    "words = 'apple fig pear guava lemon cherry lime strawberry watermelon'.split()\n",
    "no_vowel_words = [word for word in words\n",
    "                             if word[-1] not in 'aeiouy']\n",
    "print(', '.join(no_vowel_words))"
   ]
  },
  {
   "cell_type": "markdown",
   "metadata": {},
   "source": [
    "* Use a list comprehension to create a list of the integers from 1 to 100 which are not divisible by 5"
   ]
  },
  {
   "cell_type": "code",
   "execution_count": 6,
   "metadata": {},
   "outputs": [
    {
     "name": "stdout",
     "output_type": "stream",
     "text": [
      "[1, 2, 3, 4, 6, 7, 8, 9, 11, 12, 13, 14, 16, 17, 18, 19, 21, 22, 23, 24, 26, 27, 28, 29, 31, 32, 33, 34, 36, 37, 38, 39, 41, 42, 43, 44, 46, 47, 48, 49, 51, 52, 53, 54, 56, 57, 58, 59, 61, 62, 63, 64, 66, 67, 68, 69, 71, 72, 73, 74, 76, 77, 78, 79, 81, 82, 83, 84, 86, 87, 88, 89, 91, 92, 93, 94, 96, 97, 98, 99]\n"
     ]
    }
   ],
   "source": [
    "no_divis_by_5 = [num for num in range(1, 101)\n",
    "                             if num % 5] # or num % 5 > 0\n",
    "print(no_divis_by_5)"
   ]
  },
  {
   "cell_type": "code",
   "execution_count": 7,
   "metadata": {},
   "outputs": [
    {
     "name": "stdout",
     "output_type": "stream",
     "text": [
      "[5, 10, 15, 20, 25, 30, 35, 40, 45, 50, 55, 60, 65, 70, 75, 80, 85, 90, 95, 100]\n"
     ]
    }
   ],
   "source": [
    "# if we wanted the inverse of that, i.e.,\n",
    "# all numbers 1..100 that are divisible by 5,\n",
    "# we don't need a list comprehension\n",
    "print(list(range(5, 101, 5)))"
   ]
  },
  {
   "cell_type": "markdown",
   "metadata": {},
   "source": [
    "* Use a list comprehension and __`zip()`__ to create a list of lists, where the list items are name and ID number that you grabbed from separate lists of names and ID numbers\n",
    "  * start with a list of, say, 5 names ['John', 'Mary', 'Edward', 'Linda', 'Dinesh']\n",
    "  * and a list of, say, 5 ID numbers [1003, 2043, 8762, 7862, 1093]\n",
    "  * additional wrinkle: do not include any names whose corresponding ID is -1"
   ]
  },
  {
   "cell_type": "code",
   "execution_count": 9,
   "metadata": {},
   "outputs": [
    {
     "data": {
      "text/plain": [
       "[['John', 1003],\n",
       " ['Mary', 2043],\n",
       " ['Edward', 8762],\n",
       " ['Linda', 7862],\n",
       " ['Dinesh', 1093]]"
      ]
     },
     "execution_count": 9,
     "metadata": {},
     "output_type": "execute_result"
    }
   ],
   "source": [
    "names = ['John', 'Mary', 'Edward', 'Linda', 'Dinesh']\n",
    "ids = [1003, 2043, 8762, 7862, 1093]\n",
    "employees = [[name, id] for name, id in zip(names, ids)]\n",
    "employees"
   ]
  },
  {
   "cell_type": "code",
   "execution_count": 10,
   "metadata": {},
   "outputs": [
    {
     "data": {
      "text/plain": [
       "[['John', 1003], ['Mary', 2043], ['Linda', 7862]]"
      ]
     },
     "execution_count": 10,
     "metadata": {},
     "output_type": "execute_result"
    }
   ],
   "source": [
    "ids = [1003, 2043, -1, 7862, -1] # Edward and Dinesh have left the company\n",
    "employees = [[name, id] for name, id in zip(names, ids)\n",
    "                            if id != -1]\n",
    "employees"
   ]
  },
  {
   "cell_type": "code",
   "execution_count": 81,
   "metadata": {},
   "outputs": [],
   "source": [
    "sbux = {'venti': 20, 'tall': 12, 'grande': 16}"
   ]
  },
  {
   "cell_type": "code",
   "execution_count": 82,
   "metadata": {},
   "outputs": [
    {
     "data": {
      "text/plain": [
       "True"
      ]
     },
     "execution_count": 82,
     "metadata": {},
     "output_type": "execute_result"
    }
   ],
   "source": [
    "'venti' in sbux"
   ]
  },
  {
   "cell_type": "code",
   "execution_count": 83,
   "metadata": {},
   "outputs": [
    {
     "data": {
      "text/plain": [
       "False"
      ]
     },
     "execution_count": 83,
     "metadata": {},
     "output_type": "execute_result"
    }
   ],
   "source": [
    "20 in sbux"
   ]
  },
  {
   "cell_type": "code",
   "execution_count": 85,
   "metadata": {},
   "outputs": [
    {
     "data": {
      "text/plain": [
       "True"
      ]
     },
     "execution_count": 85,
     "metadata": {},
     "output_type": "execute_result"
    }
   ],
   "source": [
    "20 in sbux.values()"
   ]
  },
  {
   "cell_type": "code",
   "execution_count": 86,
   "metadata": {},
   "outputs": [
    {
     "name": "stdout",
     "output_type": "stream",
     "text": [
      "\u001b[0;31mSignature:\u001b[0m \u001b[0mdict\u001b[0m\u001b[0;34m.\u001b[0m\u001b[0mget\u001b[0m\u001b[0;34m(\u001b[0m\u001b[0mself\u001b[0m\u001b[0;34m,\u001b[0m \u001b[0mkey\u001b[0m\u001b[0;34m,\u001b[0m \u001b[0mdefault\u001b[0m\u001b[0;34m=\u001b[0m\u001b[0;32mNone\u001b[0m\u001b[0;34m,\u001b[0m \u001b[0;34m/\u001b[0m\u001b[0;34m)\u001b[0m\u001b[0;34m\u001b[0m\u001b[0;34m\u001b[0m\u001b[0m\n",
      "\u001b[0;31mDocstring:\u001b[0m Return the value for key if key is in the dictionary, else default.\n",
      "\u001b[0;31mType:\u001b[0m      method_descriptor"
     ]
    }
   ],
   "source": [
    "dict.get?"
   ]
  },
  {
   "cell_type": "code",
   "execution_count": 87,
   "metadata": {},
   "outputs": [],
   "source": [
    "wordcount = {}\n",
    "# as we see words in the input, we'll add them to the dict\n",
    "wordcount['the'] = 1 # first time we see 'the'"
   ]
  },
  {
   "cell_type": "code",
   "execution_count": 91,
   "metadata": {},
   "outputs": [],
   "source": [
    "wordcount['the'] += 1 # subsequent time we see 'the'"
   ]
  },
  {
   "cell_type": "code",
   "execution_count": 93,
   "metadata": {},
   "outputs": [],
   "source": [
    "wordcount['and'] = 4"
   ]
  },
  {
   "cell_type": "code",
   "execution_count": 97,
   "metadata": {},
   "outputs": [],
   "source": [
    "wordcount['of'] = 12"
   ]
  },
  {
   "cell_type": "code",
   "execution_count": 98,
   "metadata": {},
   "outputs": [
    {
     "data": {
      "text/plain": [
       "{'the': 5, 'and': 4, 'of': 12}"
      ]
     },
     "execution_count": 98,
     "metadata": {},
     "output_type": "execute_result"
    }
   ],
   "source": [
    "wordcount"
   ]
  },
  {
   "cell_type": "code",
   "execution_count": 100,
   "metadata": {},
   "outputs": [
    {
     "name": "stdout",
     "output_type": "stream",
     "text": [
      "and 4\n",
      "of 12\n",
      "the 5\n"
     ]
    }
   ],
   "source": [
    "for key in sorted(wordcount):\n",
    "    print(key, wordcount[key])"
   ]
  },
  {
   "cell_type": "code",
   "execution_count": 102,
   "metadata": {},
   "outputs": [
    {
     "data": {
      "text/plain": [
       "[7, 4, 3, 2, 1, -6]"
      ]
     },
     "execution_count": 102,
     "metadata": {},
     "output_type": "execute_result"
    }
   ],
   "source": [
    "sorted([2, 3, 1, 7, -6, 4], reverse=True)"
   ]
  },
  {
   "cell_type": "code",
   "execution_count": 116,
   "metadata": {},
   "outputs": [],
   "source": [
    "fruits = 'date pear mango apple fig'.split()"
   ]
  },
  {
   "cell_type": "code",
   "execution_count": 114,
   "metadata": {},
   "outputs": [
    {
     "data": {
      "text/plain": [
       "['apple', 'date', 'fig', 'mango', 'pear']"
      ]
     },
     "execution_count": 114,
     "metadata": {},
     "output_type": "execute_result"
    }
   ],
   "source": [
    "sorted(fruits)"
   ]
  },
  {
   "cell_type": "code",
   "execution_count": 117,
   "metadata": {},
   "outputs": [
    {
     "data": {
      "text/plain": [
       "['fig', 'date', 'pear', 'mango', 'apple']"
      ]
     },
     "execution_count": 117,
     "metadata": {},
     "output_type": "execute_result"
    }
   ],
   "source": [
    "sorted(fruits, key=len)"
   ]
  },
  {
   "cell_type": "markdown",
   "metadata": {},
   "source": [
    "## Lab: dictionary\n",
    "* use a dict to translate Roman numerals into their Hindu-Arabic equivalents\n",
    "1. load the dict with Roman numerals M (1000), D (500), C (100), L (50), X (10), V (5), I (1)\n",
    "2. read in a Roman numeral\n",
    "3. print Arabic equivalent\n",
    "4. try it with MCLX = 1000 + 100 + 50 + 10 = 1160\n"
   ]
  },
  {
   "cell_type": "code",
   "execution_count": null,
   "metadata": {},
   "outputs": [],
   "source": []
  },
  {
   "cell_type": "code",
   "execution_count": 15,
   "metadata": {},
   "outputs": [
    {
     "name": "stdin",
     "output_type": "stream",
     "text": [
      "Enter a Roman numeral:  MCMXCIX\n"
     ]
    },
    {
     "name": "stdout",
     "output_type": "stream",
     "text": [
      "The Arabic numeral equivalent of MCMXCIX is 1999\n"
     ]
    }
   ],
   "source": [
    "# ChatGPT's solution\n",
    "roman_numerals = {\n",
    "    'M': 1000,\n",
    "    'D': 500,\n",
    "    'C': 100,\n",
    "    'L': 50,\n",
    "    'X': 10,\n",
    "    'V': 5,\n",
    "    'I': 1\n",
    "} \n",
    "\n",
    "roman_number = input(\"Enter a Roman numeral: \").upper()\n",
    "  \n",
    "total = 0\n",
    "prev_value = 0\n",
    "\n",
    "# go through the Roman numeral backwards, i.e., right to left\n",
    "for char in roman_number[::-1]:\n",
    "    value = roman_numerals[char]  # get the numeric value of the Roman numeral\n",
    "\n",
    "    # If the current numeral is smaller than the previous one, subtract it\n",
    "    if value < prev_value:\n",
    "        total -= value\n",
    "    else:\n",
    "        # otherwise, add it to the total\n",
    "        total += value\n",
    "\n",
    "    prev_value = value  # update previous value for next iteration \n",
    "\n",
    "print(f\"The Arabic numeral equivalent of {roman_number} is {total}\")"
   ]
  },
  {
   "cell_type": "code",
   "execution_count": 20,
   "metadata": {},
   "outputs": [
    {
     "name": "stdin",
     "output_type": "stream",
     "text": [
      "Enter a Roman numeral:  MCMXCIX\n"
     ]
    },
    {
     "name": "stdout",
     "output_type": "stream",
     "text": [
      "1999\n"
     ]
    }
   ],
   "source": [
    "# my solution\n",
    "roman_numerals = {\n",
    "    'M': 1000,\n",
    "    'D': 500,\n",
    "    'C': 100,\n",
    "    'L': 50,\n",
    "    'X': 10,\n",
    "    'V': 5,\n",
    "    'I': 1\n",
    "} \n",
    "\n",
    "roman_number = input(\"Enter a Roman numeral: \").upper()\n",
    "\n",
    "# Pass 1\n",
    "arabic_vals = []\n",
    "\n",
    "for digit in roman_number:\n",
    "    if digit not in roman_numerals:\n",
    "        print('Bad Roman digit found:', digit)\n",
    "        break # bad digit found\n",
    "    else:\n",
    "        arabic_vals.append(roman_numerals[digit])\n",
    "else: # loops can have an else clause–it's only run if the loop never called break\n",
    "    for index in range(len(roman_number) - 1): # check each digit against neighbor...\n",
    "        if arabic_vals[index] < arabic_vals[index + 1]:\n",
    "            arabic_vals[index] = -arabic_vals[index]\n",
    "\n",
    "    print(sum(arabic_vals))"
   ]
  },
  {
   "cell_type": "code",
   "execution_count": null,
   "metadata": {},
   "outputs": [],
   "source": []
  }
 ],
 "metadata": {
  "kernelspec": {
   "display_name": "Python 3 (ipykernel)",
   "language": "python",
   "name": "python3"
  },
  "language_info": {
   "codemirror_mode": {
    "name": "ipython",
    "version": 3
   },
   "file_extension": ".py",
   "mimetype": "text/x-python",
   "name": "python",
   "nbconvert_exporter": "python",
   "pygments_lexer": "ipython3",
   "version": "3.13.1"
  }
 },
 "nbformat": 4,
 "nbformat_minor": 4
}
